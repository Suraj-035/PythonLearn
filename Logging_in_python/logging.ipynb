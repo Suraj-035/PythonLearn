{
 "cells": [
  {
   "cell_type": "markdown",
   "id": "794f4437",
   "metadata": {},
   "source": [
    "### Python Logging\n",
    "\n",
    "Loggging is a cruicial aspect of any application,providing a way to track events, errors and operational information. Python's builtin logging module offers a flexible frameowork for emitting  log messages from python programs."
   ]
  },
  {
   "cell_type": "code",
   "execution_count": 1,
   "id": "0a8ff2cb",
   "metadata": {},
   "outputs": [
    {
     "name": "stderr",
     "output_type": "stream",
     "text": [
      "DEBUG:root:This is a debug message\n",
      "INFO:root:This is an info message\n",
      "WARNING:root:This is warning message\n",
      "ERROR:root:This is an error message\n",
      "CRITICAL:root:This is a critical message\n"
     ]
    }
   ],
   "source": [
    "import logging\n",
    "\n",
    "##configure the basic logging setting\n",
    "logging.basicConfig(level=logging.DEBUG)\n",
    "\n",
    "##log messages with different security levels\n",
    "logging.debug(\"This is a debug message\")\n",
    "logging.info(\"This is an info message\")\n",
    "logging.warning(\"This is warning message\")\n",
    "logging.error(\"This is an error message\")\n",
    "logging.critical(\"This is a critical message\")"
   ]
  },
  {
   "cell_type": "markdown",
   "id": "4ce8d325",
   "metadata": {},
   "source": [
    "### 💡 Logging Levels\n",
    "\n",
    "These are the types of messages you can log, from least to most serious:\n",
    "\n",
    "Level----->What It’s For\n",
    "\n",
    "DEBUG-->\tDetailed dev info (when debugging)\n",
    "\n",
    "INFO--->\tNormal things that happen\n",
    "\n",
    "WARNING-->\tSomething might go wrong\n",
    "\n",
    "ERROR--->\tSomething did go wrong\n",
    "\n",
    "CRITICAL--->\tApp can’t continue"
   ]
  },
  {
   "cell_type": "code",
   "execution_count": null,
   "id": "aeda71c4",
   "metadata": {},
   "outputs": [],
   "source": [
    "##configuring loggingLogging in python/logging.ipynb\n",
    "import logging\n",
    "\n",
    "logging.basicConfig(\n",
    "    filename='app.log',\n",
    "    filemode='w',\n",
    "    level=logging.DEBUG,\n",
    "    format='%(asctime)s-%(name)s-%(levelname)s-%(message)s',\n",
    "    datefmt='%Y-%m-%d %H:%M:%S'\n",
    ")\n",
    "logging.debug(\"This is a debug message\")\n",
    "logging.info(\"This is an info message\")\n",
    "logging.warning(\"This is warning message\")\n",
    "logging.error(\"This is an error message\")\n",
    "logging.critical(\"This is a critical message\")"
   ]
  },
  {
   "cell_type": "markdown",
   "id": "1b41b4aa",
   "metadata": {},
   "source": [
    "## Logging with Multiple Loggers\n",
    "you can create multiple loggers for different parts of your application."
   ]
  },
  {
   "cell_type": "code",
   "execution_count": 1,
   "id": "d809568d",
   "metadata": {},
   "outputs": [],
   "source": [
    "import logging\n",
    "##create a logger for module1\n",
    "logger1=logging.getLogger(\"module1\")\n",
    "logger1.setLevel(logging.DEBUG)\n",
    "\n",
    "##Create a logger for module 2\n",
    "logger2=logging.getLogger(\"module2\")\n",
    "logger2.setLevel(logging.WARNING)\n",
    "\n",
    "logging.basicConfig(\n",
    "    level=logging.DEBUG,\n",
    "    format='%(asctime)s-%(name)s-%(levelname)s-%(message)s',\n",
    "    datefmt='%Y-%m-%d %H:%M:%S'\n",
    ")"
   ]
  },
  {
   "cell_type": "code",
   "execution_count": 2,
   "id": "aa034b45",
   "metadata": {},
   "outputs": [
    {
     "name": "stderr",
     "output_type": "stream",
     "text": [
      "2025-07-26 22:00:54-module1-DEBUG-this is a debug message for module1\n",
      "2025-07-26 22:00:54-module2-WARNING-this is a warning message for module2\n",
      "2025-07-26 22:00:54-module2-ERROR-this is a error message for module2\n"
     ]
    }
   ],
   "source": [
    "##log messages with different loggers\n",
    "logger1.debug(\"this is a debug message for module1\")\n",
    "logger2.warning(\"this is a warning message for module2\")\n",
    "logger2.error(\"this is a error message for module2\")"
   ]
  },
  {
   "cell_type": "code",
   "execution_count": null,
   "id": "2dd558d9",
   "metadata": {},
   "outputs": [],
   "source": []
  },
  {
   "cell_type": "code",
   "execution_count": null,
   "id": "1adf6107",
   "metadata": {},
   "outputs": [],
   "source": []
  },
  {
   "cell_type": "code",
   "execution_count": null,
   "id": "54fd748f",
   "metadata": {},
   "outputs": [],
   "source": []
  }
 ],
 "metadata": {
  "kernelspec": {
   "display_name": "base",
   "language": "python",
   "name": "python3"
  },
  "language_info": {
   "codemirror_mode": {
    "name": "ipython",
    "version": 3
   },
   "file_extension": ".py",
   "mimetype": "text/x-python",
   "name": "python",
   "nbconvert_exporter": "python",
   "pygments_lexer": "ipython3",
   "version": "3.13.5"
  }
 },
 "nbformat": 4,
 "nbformat_minor": 5
}
