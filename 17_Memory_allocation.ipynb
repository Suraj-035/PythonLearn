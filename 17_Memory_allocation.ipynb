{
 "cells": [
  {
   "cell_type": "markdown",
   "id": "6ea27ffe",
   "metadata": {},
   "source": [
    "## Python Memory Markdown\n",
    "\n",
    "Memory managment in Python involves a combination of automatic garbage collection, reference counting, and various internal optimizations to efficiently manage memory allocations and dellocations. Understanding this mechanisms can help developers write more efficient and robust appliations\n",
    " - Key concepts in python memory management\n",
    " - Memory allocation nd dellocation\n",
    " - reference counting\n",
    " - the gc module\n",
    " - memory managment best practices"
   ]
  },
  {
   "cell_type": "code",
   "execution_count": null,
   "id": "531910d6",
   "metadata": {},
   "outputs": [
    {
     "name": "stdout",
     "output_type": "stream",
     "text": [
      "2\n"
     ]
    }
   ],
   "source": [
    "''' Reference counting\n",
    "this is the primary method Python uses to manage memory. Each object in Python maintains a count of references pointing to it. \n",
    "when the reference count drops to zero, the memory occupied by the objectis deallocated\n",
    "'''\n",
    "\n",
    "import sys\n",
    "\n",
    "a=[]\n",
    "print(sys.getrefcount(a)) ##output : 2 -->(one reference from 'a' and one from getrefcount())"
   ]
  },
  {
   "cell_type": "code",
   "execution_count": 3,
   "id": "36ac8e42",
   "metadata": {},
   "outputs": [
    {
     "name": "stdout",
     "output_type": "stream",
     "text": [
      "Original refcount: 2\n",
      "After b=a, refcount: 3\n",
      "After c=a, refcount: 4\n"
     ]
    }
   ],
   "source": [
    "import sys\n",
    "\n",
    "a = []\n",
    "print(\"Original refcount:\", sys.getrefcount(a))\n",
    "\n",
    "b = a\n",
    "print(\"After b=a, refcount:\", sys.getrefcount(a))\n",
    "\n",
    "c = a\n",
    "print(\"After c=a, refcount:\", sys.getrefcount(a))\n"
   ]
  },
  {
   "cell_type": "code",
   "execution_count": 4,
   "id": "98b514fd",
   "metadata": {},
   "outputs": [
    {
     "name": "stdout",
     "output_type": "stream",
     "text": [
      "3\n"
     ]
    }
   ],
   "source": [
    "del c\n",
    "print(sys.getrefcount(a))"
   ]
  },
  {
   "cell_type": "markdown",
   "id": "3bbee603",
   "metadata": {},
   "source": [
    "### - Garbage colection\n",
    "Python includes a cyclic garbage colector to handle reference cycles. reference cycles occur when objects reference each other, preventing their reference counts from reaching zero"
   ]
  },
  {
   "cell_type": "code",
   "execution_count": 5,
   "id": "35445451",
   "metadata": {},
   "outputs": [],
   "source": [
    "import gc #garbage collector\n",
    "##enable garbage collection\n",
    "gc.enable()"
   ]
  },
  {
   "cell_type": "code",
   "execution_count": 6,
   "id": "0a395b94",
   "metadata": {},
   "outputs": [],
   "source": [
    "gc.disable()"
   ]
  },
  {
   "cell_type": "code",
   "execution_count": 7,
   "id": "ae11fe17",
   "metadata": {},
   "outputs": [
    {
     "data": {
      "text/plain": [
       "185"
      ]
     },
     "execution_count": 7,
     "metadata": {},
     "output_type": "execute_result"
    }
   ],
   "source": [
    "gc.collect()"
   ]
  },
  {
   "cell_type": "code",
   "execution_count": 8,
   "id": "7a6ce494",
   "metadata": {},
   "outputs": [
    {
     "name": "stdout",
     "output_type": "stream",
     "text": [
      "[{'collections': 70, 'collected': 989, 'uncollectable': 0}, {'collections': 6, 'collected': 646, 'uncollectable': 0}, {'collections': 1, 'collected': 185, 'uncollectable': 0}]\n"
     ]
    }
   ],
   "source": [
    "##get garbage collection stats\n",
    "print(gc.get_stats())"
   ]
  },
  {
   "cell_type": "code",
   "execution_count": 9,
   "id": "5ea84f0d",
   "metadata": {},
   "outputs": [
    {
     "name": "stdout",
     "output_type": "stream",
     "text": [
      "[]\n"
     ]
    }
   ],
   "source": [
    "##get unrechable objects\n",
    "print(gc.garbage)"
   ]
  },
  {
   "cell_type": "markdown",
   "id": "c5d6d5ee",
   "metadata": {},
   "source": [
    "## Memory Maganement \n",
    "- Use local vars - \tEasy to free\n",
    "- Use generators - \tLess memory\n",
    "- del unused vars - \tClear early\n",
    "- with statements - \tAuto resource cleanup\n",
    "- Monitor with gc, sys, psutil\t- Debug memory leaks\n",
    "- Avoid circular refs - \tCleaner memory\n",
    "- Use __slots__ - \tLighter objects"
   ]
  },
  {
   "cell_type": "code",
   "execution_count": null,
   "id": "ade2b104",
   "metadata": {},
   "outputs": [
    {
     "name": "stdout",
     "output_type": "stream",
     "text": [
      "Object obj1 created\n",
      "Object obj2 created\n",
      "Object obj1 deleted\n",
      "Object obj2 deleted\n"
     ]
    },
    {
     "data": {
      "text/plain": [
       "393"
      ]
     },
     "execution_count": 1,
     "metadata": {},
     "output_type": "execute_result"
    }
   ],
   "source": [
    "##handling circular reference\n",
    "import gc\n",
    "\n",
    "class MyObject:\n",
    "    def __init__(self,name):\n",
    "        self.name=name\n",
    "        print(f\"Object {self.name} created\")\n",
    "\n",
    "    def __del__(self):\n",
    "        print(f\"Object {self.name} deleted\")\n",
    "\n",
    "##Create circular reference\n",
    "obj1=MyObject(\"obj1\")\n",
    "obj2=MyObject(\"obj2\")\n",
    "obj1.ref=obj2\n",
    "obj2.ref=obj1\n",
    "\n",
    "del obj1\n",
    "del obj2\n",
    "\n",
    "##Manually trigger the garbage collection\n",
    "gc.collect()"
   ]
  },
  {
   "cell_type": "code",
   "execution_count": 4,
   "id": "1a835c5b",
   "metadata": {},
   "outputs": [
    {
     "name": "stdout",
     "output_type": "stream",
     "text": [
      "0\n",
      "1\n",
      "2\n",
      "3\n",
      "4\n",
      "5\n",
      "6\n",
      "7\n",
      "8\n",
      "9\n",
      "10\n",
      "11\n"
     ]
    }
   ],
   "source": [
    "##generators for memeory efficiency\n",
    "#generators allow you to produce items one at a time, using memory efficiently by only keeping one item at the memory at a time\n",
    "\n",
    "def generate_num(n):\n",
    "    for i in range(n):\n",
    "        yield i\n",
    "\n",
    "##using the generator\n",
    "for num in generate_num(100000):\n",
    "    print(num)\n",
    "    if num>10:\n",
    "        break"
   ]
  },
  {
   "cell_type": "code",
   "execution_count": 12,
   "id": "57a70206",
   "metadata": {},
   "outputs": [
    {
     "name": "stdout",
     "output_type": "stream",
     "text": [
      "[Top 10]\n",
      "c:\\Anaconda\\Lib\\tokenize.py:582: size=3522 KiB, count=78233, average=46 B\n",
      "c:\\Anaconda\\Lib\\ast.py:50: size=3430 KiB, count=47725, average=74 B\n",
      "<string>:1: size=2199 KiB, count=17592, average=128 B\n",
      "c:\\Anaconda\\Lib\\site-packages\\asttokens\\line_numbers.py:64: size=1090 KiB, count=34884, average=32 B\n",
      "c:\\Anaconda\\Lib\\site-packages\\asttokens\\line_numbers.py:47: size=787 KiB, count=3773, average=213 B\n",
      "c:\\Anaconda\\Lib\\site-packages\\asttokens\\asttokens.py:139: size=466 KiB, count=17049, average=28 B\n",
      "c:\\Anaconda\\Lib\\site-packages\\executing\\executing.py:241: size=433 KiB, count=5921, average=75 B\n",
      "c:\\Anaconda\\Lib\\site-packages\\executing\\executing.py:209: size=317 KiB, count=3391, average=96 B\n",
      "c:\\Anaconda\\Lib\\linecache.py:172: size=317 KiB, count=3343, average=97 B\n",
      "c:\\Anaconda\\Lib\\selectors.py:305: size=288 KiB, count=6, average=48.0 KiB\n"
     ]
    }
   ],
   "source": [
    "##Profiling memory usage with tracemalloc\n",
    "\n",
    "import tracemalloc  ##tracemalloc, a built-in Python module to track memory allocations in your program.\n",
    " ##This is super useful when you want to check which part of your code is consuming memory.'''\n",
    "\n",
    "def create_list():\n",
    "    return [i for i  in range(10000)] #🔁 This function creates a list of 10,000 integers.🧠 This list takes real memory, not a generator\n",
    "\n",
    "def main():\n",
    "    tracemalloc.start() #🚀 Starts tracing memory allocations from this point onward.\n",
    "\n",
    "    create_list() #📦 Creates that big list (10,000 items), which takes memory.\n",
    "\n",
    "    snapshot = tracemalloc.take_snapshot() #Take a memory snapshot after your code runs\n",
    "    top_stats = snapshot.statistics('lineno') #Show which lines used memory\n",
    "\n",
    "    print(\"[Top 10]\")\n",
    "    for stat in top_stats[:10]:\n",
    "        print(stat)\n",
    "\n",
    "main()"
   ]
  },
  {
   "cell_type": "code",
   "execution_count": null,
   "id": "e7458e1c",
   "metadata": {},
   "outputs": [],
   "source": []
  },
  {
   "cell_type": "code",
   "execution_count": null,
   "id": "07b24a5d",
   "metadata": {},
   "outputs": [],
   "source": []
  }
 ],
 "metadata": {
  "kernelspec": {
   "display_name": "base",
   "language": "python",
   "name": "python3"
  },
  "language_info": {
   "codemirror_mode": {
    "name": "ipython",
    "version": 3
   },
   "file_extension": ".py",
   "mimetype": "text/x-python",
   "name": "python",
   "nbconvert_exporter": "python",
   "pygments_lexer": "ipython3",
   "version": "3.13.5"
  }
 },
 "nbformat": 4,
 "nbformat_minor": 5
}
