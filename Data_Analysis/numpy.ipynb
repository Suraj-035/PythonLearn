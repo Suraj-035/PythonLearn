{
 "cells": [
  {
   "cell_type": "markdown",
   "id": "4d83e129",
   "metadata": {},
   "source": [
    "## Numpy\n",
    "\n",
    "numpy is a fundamental library for scientific computing in Python. it provides support for arrays and matrices, along with a collection of mathematical functions to operate on these data structures."
   ]
  },
  {
   "cell_type": "code",
   "execution_count": 1,
   "id": "cfb42435",
   "metadata": {},
   "outputs": [
    {
     "name": "stdout",
     "output_type": "stream",
     "text": [
      "Requirement already satisfied: numpy in c:\\anaconda\\lib\\site-packages (2.1.3)\n"
     ]
    }
   ],
   "source": [
    "!pip install numpy"
   ]
  },
  {
   "cell_type": "code",
   "execution_count": 3,
   "id": "afe88423",
   "metadata": {},
   "outputs": [
    {
     "name": "stdout",
     "output_type": "stream",
     "text": [
      "[1 2 3 4 5]\n",
      "<class 'numpy.ndarray'>\n",
      "(5,)\n"
     ]
    }
   ],
   "source": [
    "import numpy as np\n",
    "\n",
    "##Create arrays using numpy\n",
    "## create a 1D array\n",
    "arr1=np.array([1,2,3,4,5])\n",
    "print(arr1)\n",
    "print(type(arr1))\n",
    "print(arr1.shape) ##--(5,)--> Single Dimension"
   ]
  },
  {
   "cell_type": "code",
   "execution_count": 4,
   "id": "18c17622",
   "metadata": {},
   "outputs": [
    {
     "data": {
      "text/plain": [
       "array([[1, 2, 3, 4, 5]])"
      ]
     },
     "execution_count": 4,
     "metadata": {},
     "output_type": "execute_result"
    }
   ],
   "source": [
    "##1D array\n",
    "arr2=np.array([1,2,3,4,5])\n",
    "arr2.reshape(1,5) ##1 row and 25 collumns"
   ]
  },
  {
   "cell_type": "code",
   "execution_count": 7,
   "id": "ed5e8749",
   "metadata": {},
   "outputs": [
    {
     "data": {
      "text/plain": [
       "(1, 5)"
      ]
     },
     "execution_count": 7,
     "metadata": {},
     "output_type": "execute_result"
    }
   ],
   "source": [
    "arr2=np.array([[1,2,3,4,5]])\n",
    "arr2.shape"
   ]
  },
  {
   "cell_type": "code",
   "execution_count": null,
   "id": "ef7c3c82",
   "metadata": {},
   "outputs": [
    {
     "name": "stdout",
     "output_type": "stream",
     "text": [
      "[[1 2 3 4 5]\n",
      " [6 7 8 9 0]]\n"
     ]
    },
    {
     "data": {
      "text/plain": [
       "(2, 5)"
      ]
     },
     "execution_count": 11,
     "metadata": {},
     "output_type": "execute_result"
    }
   ],
   "source": [
    "##2D array\n",
    "arr2=np.array([[1,2,3,4,5],[6,7,8,9,0]])\n",
    "print(arr2)\n",
    "\n",
    "arr2.shape ##---> 2 rows and 5 columns"
   ]
  },
  {
   "cell_type": "code",
   "execution_count": 6,
   "id": "cf95dec4",
   "metadata": {},
   "outputs": [],
   "source": [
    "import numpy as np"
   ]
  },
  {
   "cell_type": "code",
   "execution_count": 11,
   "id": "dd3bf996",
   "metadata": {},
   "outputs": [
    {
     "data": {
      "text/plain": [
       "array([[0],\n",
       "       [2],\n",
       "       [4],\n",
       "       [6],\n",
       "       [8]])"
      ]
     },
     "execution_count": 11,
     "metadata": {},
     "output_type": "execute_result"
    }
   ],
   "source": [
    "np.arange(0,10,2).reshape(5,1)"
   ]
  },
  {
   "cell_type": "code",
   "execution_count": 13,
   "id": "a1af3a6f",
   "metadata": {},
   "outputs": [
    {
     "data": {
      "text/plain": [
       "array([[1., 1., 1., 1.],\n",
       "       [1., 1., 1., 1.],\n",
       "       [1., 1., 1., 1.]])"
      ]
     },
     "execution_count": 13,
     "metadata": {},
     "output_type": "execute_result"
    }
   ],
   "source": [
    "np.ones((3,4))## --> its going to create 3 rows and 4 columns with Ones"
   ]
  },
  {
   "cell_type": "code",
   "execution_count": 14,
   "id": "60c870ba",
   "metadata": {},
   "outputs": [
    {
     "data": {
      "text/plain": [
       "array([[1., 0., 0.],\n",
       "       [0., 1., 0.],\n",
       "       [0., 0., 1.]])"
      ]
     },
     "execution_count": 14,
     "metadata": {},
     "output_type": "execute_result"
    }
   ],
   "source": [
    "##identity matrix/array\n",
    "np.eye(3) ##-> 3x3 identity matrix "
   ]
  },
  {
   "cell_type": "code",
   "execution_count": 20,
   "id": "39470825",
   "metadata": {},
   "outputs": [
    {
     "name": "stdout",
     "output_type": "stream",
     "text": [
      "Array: \n",
      " [[1 2 3]\n",
      " [4 5 6]]\n",
      "Shape: (2, 3)\n",
      "Number of dimensions : 2\n",
      "Size (number of elements): 6\n",
      "Data Type : int64\n",
      "Item size (in bytes) : 8\n"
     ]
    }
   ],
   "source": [
    "## attributes of Numoy Array\n",
    "\n",
    "arr=np.array([[1,2,3],[4,5,6]])\n",
    "\n",
    "print(\"Array: \\n\", arr)\n",
    "print(\"Shape:\", arr.shape) ##Output (2,3)\n",
    "print(\"Number of dimensions :\", arr.ndim) ##Output : 2\n",
    "print(\"Size (number of elements):\", arr.size) ## Output :6\n",
    "print(\"Data Type :\", arr.dtype) ##output: int64(may vary based on platform)\n",
    "print(\"Item size (in bytes) :\", arr.itemsize) ##Output : 8"
   ]
  },
  {
   "cell_type": "code",
   "execution_count": 17,
   "id": "6fd95d1e",
   "metadata": {},
   "outputs": [
    {
     "name": "stdout",
     "output_type": "stream",
     "text": [
      "Addition:  [11 22 33 44 55]\n",
      "Substraction [ -9 -18 -27 -36 -45]\n",
      "Multiplication  [ 10  40  90 160 250]\n",
      "Division  [0.1 0.1 0.1 0.1 0.1]\n"
     ]
    }
   ],
   "source": [
    "##Numpy Vectorized Operation \n",
    "arr1=np.array([1,2,3,4,5])\n",
    "arr2=np.array([10,20,30,40,50])\n",
    "\n",
    "##elements wise addition\n",
    "print(\"Addition: \", arr1+arr2)\n",
    "\n",
    "##element wise substraction\n",
    "print(\"Substraction\", arr1-arr2)\n",
    "\n",
    "##element wise multiplication\n",
    "print(\"Multiplication \", arr1*arr2)\n",
    "\n",
    "##element wise division\n",
    "print(\"Division \", arr1/arr2)"
   ]
  },
  {
   "cell_type": "code",
   "execution_count": null,
   "id": "dd5ac0dc",
   "metadata": {},
   "outputs": [
    {
     "name": "stdout",
     "output_type": "stream",
     "text": [
      "[1.41421356 1.73205081 2.         2.23606798 2.44948974]\n",
      "[  7.3890561   20.08553692  54.59815003 148.4131591  403.42879349]\n",
      "[ 0.90929743  0.14112001 -0.7568025  -0.95892427 -0.2794155 ]\n",
      "[0.69314718 1.09861229 1.38629436 1.60943791 1.79175947]\n"
     ]
    }
   ],
   "source": [
    "## Universal Function(ufuncs)\n",
    "\n",
    "arr=np.array([2,3,4,5,6])\n",
    "print(np.sqrt(arr)) ## square root\n",
    "\n",
    "print(np.exp(arr)) ##exponential\n",
    "\n",
    "print(np.sin(arr)) ##sine\n",
    "\n",
    "print(np.log(arr)) ##natural log"
   ]
  },
  {
   "cell_type": "code",
   "execution_count": 24,
   "id": "02cd4ade",
   "metadata": {},
   "outputs": [
    {
     "name": "stdout",
     "output_type": "stream",
     "text": [
      "Array: \n",
      " [[ 1  2  3  4]\n",
      " [ 5  6  7  8]\n",
      " [ 9 10 11 12]]\n"
     ]
    }
   ],
   "source": [
    "## array slicing and iNdexing\n",
    "\n",
    "arr=np.array([[1,2,3,4],[5,6,7,8],[9,10,11,12]])\n",
    "print(\"Array: \\n\", arr)"
   ]
  },
  {
   "cell_type": "code",
   "execution_count": 55,
   "id": "322bf950",
   "metadata": {},
   "outputs": [
    {
     "name": "stdout",
     "output_type": "stream",
     "text": [
      "[[ 6  7]\n",
      " [10 11]]\n"
     ]
    }
   ],
   "source": [
    "print(arr[1:,1:3])"
   ]
  },
  {
   "cell_type": "code",
   "execution_count": 47,
   "id": "0f495212",
   "metadata": {},
   "outputs": [
    {
     "name": "stdout",
     "output_type": "stream",
     "text": [
      "1\n",
      "[[3 4]\n",
      " [7 8]]\n"
     ]
    }
   ],
   "source": [
    "print(arr[0][0]) ## 1st row 1st element\n",
    "print(arr[0:2,2:])"
   ]
  },
  {
   "cell_type": "code",
   "execution_count": 34,
   "id": "bb8a7e59",
   "metadata": {},
   "outputs": [
    {
     "data": {
      "text/plain": [
       "array([[ 7,  8],\n",
       "       [11, 12]])"
      ]
     },
     "execution_count": 34,
     "metadata": {},
     "output_type": "execute_result"
    }
   ],
   "source": [
    "arr[1:,2:] ##2nd & 3rd row  and 3rd & 4th  columns elements"
   ]
  },
  {
   "cell_type": "code",
   "execution_count": 56,
   "id": "853abf06",
   "metadata": {},
   "outputs": [
    {
     "name": "stdout",
     "output_type": "stream",
     "text": [
      "[[100   2   3   4]\n",
      " [  5   6   7   8]\n",
      " [  9  10  11  12]]\n"
     ]
    }
   ],
   "source": [
    "##Modify array elements\n",
    "arr[0,0] = 100\n",
    "print(arr)"
   ]
  },
  {
   "cell_type": "code",
   "execution_count": 57,
   "id": "8b75e385",
   "metadata": {},
   "outputs": [
    {
     "name": "stdout",
     "output_type": "stream",
     "text": [
      "[[100   2   3   4]\n",
      " [100 100 100 100]\n",
      " [100 100 100 100]]\n"
     ]
    }
   ],
   "source": [
    "arr[1:]=100\n",
    "print(arr)"
   ]
  },
  {
   "cell_type": "code",
   "execution_count": 58,
   "id": "e1e01c02",
   "metadata": {},
   "outputs": [
    {
     "name": "stdout",
     "output_type": "stream",
     "text": [
      "Normalized data :  [-1.41421356 -0.70710678  0.          0.70710678  1.41421356]\n"
     ]
    }
   ],
   "source": [
    "## Statitical Concept -- Normalisation\n",
    "##to have a mean of 0 and standard deviation of 1\n",
    "\n",
    "data = np.array([1,2,3,4,5])\n",
    "\n",
    "##Calculate the mean and Standard deviation\n",
    "mean=np.mean(data)\n",
    "std_dev=np.std(data)\n",
    "\n",
    "##Normalize the data\n",
    "normalized_data=(data-mean)/std_dev\n",
    "print(\"Normalized data : \", normalized_data)"
   ]
  },
  {
   "cell_type": "code",
   "execution_count": 60,
   "id": "423e80f2",
   "metadata": {},
   "outputs": [
    {
     "name": "stdout",
     "output_type": "stream",
     "text": [
      "Mean :  5.5\n",
      "Median :  5.5\n",
      "Standard Deviation :  2.8722813232690143\n",
      "Variance :  8.25\n"
     ]
    }
   ],
   "source": [
    "data=np.array([1,2,3,4,5,6,7,8,9,10])\n",
    "\n",
    "#mean\n",
    "mean = np.mean(data)\n",
    "print(\"Mean : \", mean)\n",
    "\n",
    "#median\n",
    "median= np.median(data)\n",
    "print(\"Median : \",median)\n",
    "\n",
    "#Standard Deviation\n",
    "std=np.std(data)\n",
    "print(\"Standard Deviation : \", std)\n",
    "\n",
    "##variance\n",
    "var=np.var(data)\n",
    "print(\"Variance : \",var)"
   ]
  },
  {
   "cell_type": "code",
   "execution_count": 68,
   "id": "3fa14c6f",
   "metadata": {},
   "outputs": [
    {
     "data": {
      "text/plain": [
       "array([5, 6, 7, 8])"
      ]
     },
     "execution_count": 68,
     "metadata": {},
     "output_type": "execute_result"
    }
   ],
   "source": [
    "##logical operations\n",
    "\n",
    "data=np.array([1,2,3,4,5,6,7,8,9,10])\n",
    "\n",
    "data[(data>=5) & (data<=8)]"
   ]
  },
  {
   "cell_type": "code",
   "execution_count": null,
   "id": "cf7c813d",
   "metadata": {},
   "outputs": [],
   "source": []
  },
  {
   "cell_type": "code",
   "execution_count": null,
   "id": "ef89e60a",
   "metadata": {},
   "outputs": [],
   "source": []
  },
  {
   "cell_type": "code",
   "execution_count": null,
   "id": "bcbfabf4",
   "metadata": {},
   "outputs": [],
   "source": []
  },
  {
   "cell_type": "code",
   "execution_count": null,
   "id": "04450972",
   "metadata": {},
   "outputs": [],
   "source": []
  },
  {
   "cell_type": "markdown",
   "id": "a505732b",
   "metadata": {},
   "source": []
  }
 ],
 "metadata": {
  "kernelspec": {
   "display_name": "base",
   "language": "python",
   "name": "python3"
  },
  "language_info": {
   "codemirror_mode": {
    "name": "ipython",
    "version": 3
   },
   "file_extension": ".py",
   "mimetype": "text/x-python",
   "name": "python",
   "nbconvert_exporter": "python",
   "pygments_lexer": "ipython3",
   "version": "3.13.5"
  }
 },
 "nbformat": 4,
 "nbformat_minor": 5
}
