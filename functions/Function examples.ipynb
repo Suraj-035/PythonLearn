{
 "cells": [
  {
   "cell_type": "code",
   "execution_count": 1,
   "id": "f814f1eb",
   "metadata": {},
   "outputs": [],
   "source": [
    "##Function Examples\n"
   ]
  },
  {
   "cell_type": "code",
   "execution_count": null,
   "id": "a72bd35d",
   "metadata": {},
   "outputs": [
    {
     "name": "stdout",
     "output_type": "stream",
     "text": [
      "77.0\n",
      "25.0\n"
     ]
    }
   ],
   "source": [
    "##Temperature conversion\n",
    "\n",
    "def convert_temp(temp,unit):\n",
    "    \"\"\"This function converts between Celsius and Fahrenheit\"\"\"\n",
    "    if unit=='C':\n",
    "        return temp*9/5 +32 ##Celsius to Fahrenheit\n",
    "    elif unit==\"F\":\n",
    "        return (temp-32)*5/9 ##Fahrenheit to Celsius\n",
    "    else:\n",
    "        return None\n",
    "\n",
    "print(convert_temp(25,'C'))\n",
    "print(convert_temp(77,'F'))"
   ]
  },
  {
   "cell_type": "code",
   "execution_count": 13,
   "id": "db81d676",
   "metadata": {},
   "outputs": [
    {
     "name": "stdout",
     "output_type": "stream",
     "text": [
      "False\n",
      "True\n"
     ]
    }
   ],
   "source": [
    "##Password Strength Checker\n",
    "\n",
    "def is_strong_pass(password):\n",
    "    ##This function checks if the password is strong or not\n",
    "\n",
    "    if len(password)<8:\n",
    "        return False\n",
    "    if not any(char.isdigit() for char in password):\n",
    "        return False\n",
    "    if not any(char.islower() for char in password):\n",
    "        return False\n",
    "    if not any(char.isupper() for char in password):\n",
    "        return False\n",
    "    if not any(char in '!@#$%^&*()_+' for char in password):\n",
    "        return False\n",
    "    return True\n",
    "\n",
    "##calling the fnc\n",
    "print(is_strong_pass(\"WeakPwd\"))\n",
    "print(is_strong_pass(\"Str0ng!Pass1\"))"
   ]
  },
  {
   "cell_type": "code",
   "execution_count": 15,
   "id": "af4db17b",
   "metadata": {},
   "outputs": [
    {
     "name": "stdout",
     "output_type": "stream",
     "text": [
      "5.9\n"
     ]
    }
   ],
   "source": [
    "##Calculate the total cost of items in a Cart\n",
    "\n",
    "def calculate_tot(cart):\n",
    "    total_cost=0\n",
    "    for item in cart:\n",
    "        total_cost+=item['price']*item['quantity']\n",
    "    \n",
    "    return total_cost\n",
    "\n",
    "##example cart data\n",
    "\n",
    "cart=[{'name':'Apple', 'price':0.5,'quantity':4},\n",
    "      {'name':'Banana', 'price':0.2,'quantity':6},\n",
    "      {'name':'Strawberry', 'price':0.9,'quantity':3}]\n",
    "\n",
    "\n",
    "##calling the function\n",
    "total_cost=calculate_tot(cart)\n",
    "print(total_cost)"
   ]
  },
  {
   "cell_type": "code",
   "execution_count": null,
   "id": "8da4dee8",
   "metadata": {},
   "outputs": [
    {
     "name": "stdout",
     "output_type": "stream",
     "text": [
      "6.136\n"
     ]
    }
   ],
   "source": [
    "##Added Tax and discount\n",
    "def calculate_tot(cart, tax=0.0, discount=0.0):\n",
    "    total_cost = 0\n",
    "    for item in cart:\n",
    "        total_cost += item['price'] * item['quantity']\n",
    "    total_cost += total_cost * tax\n",
    "    total_cost -= total_cost * discount\n",
    "    return total_cost\n",
    "\n",
    "##example cart data\n",
    "\n",
    "cart=[{'name':'Apple', 'price':0.5,'quantity':4},\n",
    "      {'name':'Banana', 'price':0.2,'quantity':6},\n",
    "      {'name':'Strawberry', 'price':0.9,'quantity':3}]\n",
    "\n",
    "\n",
    "##calling the function\n",
    "total_cost=calculate_tot(cart,tax=0.3,discount=.2)\n",
    "print(total_cost)"
   ]
  },
  {
   "cell_type": "code",
   "execution_count": 26,
   "id": "f50ac00d",
   "metadata": {},
   "outputs": [
    {
     "name": "stdout",
     "output_type": "stream",
     "text": [
      "True\n"
     ]
    }
   ],
   "source": [
    "##Check if a string is Palindrome\n",
    "\n",
    "def is_palindrome(s):\n",
    "    s=s.lower().replace(\" \",\"\")\n",
    "    return s== s[::-1]\n",
    "\n",
    "print(is_palindrome(\"A man a plan a canal Panama\"))"
   ]
  },
  {
   "cell_type": "code",
   "execution_count": null,
   "id": "a5fdc3d2",
   "metadata": {},
   "outputs": [
    {
     "name": "stdout",
     "output_type": "stream",
     "text": [
      "True\n",
      "True\n",
      "True\n",
      "False\n"
     ]
    }
   ],
   "source": [
    "import string\n",
    "\n",
    "def is_palindrome(s):\n",
    "    s = s.lower()\n",
    "    s = ''.join(char for char in s if char in string.ascii_lowercase) ## ''.join(...) makes a new string; \n",
    "    ##(char for ....in string.ascii_) - For each character in the original string s, keep it only if it's a lowercase letter (a-z))\n",
    "    return s == s[::-1]#check if forward==backward\n",
    "\n",
    "print(is_palindrome(\"Madam, in Eden, I'm Adam\"))  # True\n",
    "print(is_palindrome(\"Was it a car or a cat I saw?\"))  # True\n",
    "print(is_palindrome(\"No lemon, no melon!\"))  # True\n",
    "print(is_palindrome(\"Physics is tough\"))  # False 😅\n"
   ]
  },
  {
   "cell_type": "code",
   "execution_count": null,
   "id": "f5acc130",
   "metadata": {},
   "outputs": [
    {
     "name": "stdout",
     "output_type": "stream",
     "text": [
      "120\n"
     ]
    }
   ],
   "source": [
    "##Calculate the factorial of a number using recursion\n",
    "\n",
    "def factorial(n):\n",
    "    if(n==0):\n",
    "        return 1\n",
    "    else:\n",
    "        return n*factorial(n-1)\n",
    "print(factorial(5))"
   ]
  },
  {
   "cell_type": "code",
   "execution_count": null,
   "id": "0ad768de",
   "metadata": {},
   "outputs": [
    {
     "name": "stdout",
     "output_type": "stream",
     "text": [
      "{'hello': 1, 'world': 1, 'my': 1, 'name': 1, 'is': 1, 'suraj': 1}\n"
     ]
    }
   ],
   "source": [
    "##  function to read a file anf count the frequency of each word\n",
    "\n",
    "def count_word_frequency(file_path):\n",
    "    word_count={}                        ##initializes an empty dictionary\n",
    "    with open(file_path,'r')as file:     #opens file in \"read\" mode\n",
    "        for line in file:\n",
    "            words=line.split()\n",
    "            for word in words:\n",
    "                word=word.lower().strip('.,!?;:\\'')\n",
    "                word_count[word]=word_count.get(word,0)+1\n",
    "    return word_count\n",
    "\n",
    "filepath=r'C:\\Users\\suraj\\Documents\\Python_Learn\\simple txt.txt'\n",
    "word_frequency=count_word_frequency(filepath)\n",
    "print(word_frequency)"
   ]
  },
  {
   "cell_type": "code",
   "execution_count": null,
   "id": "39191fd9",
   "metadata": {},
   "outputs": [
    {
     "name": "stdout",
     "output_type": "stream",
     "text": [
      "True\n",
      "False\n"
     ]
    }
   ],
   "source": [
    "##Validate Email address\n",
    "\n",
    "import re   ##regex expression module -- helps match complex pattern in strings(like email address)\n",
    "\n",
    "##email validation function\n",
    "def is_valid_email(email):\n",
    "    \"\"\"This function checks if the email is valid\"\"\"\n",
    "    pattern = r'^[a-zA-Z0-9_.+-]+@[a-zA-z0-9-]+\\.[a-zA-Z0-9-.]+$'\n",
    "    return re.match(pattern,email) is not None\n",
    "\n",
    "##calling the function\n",
    "print(is_valid_email(\"test@example.com\"))\n",
    "print(is_valid_email(\"invalid-email\"))"
   ]
  },
  {
   "cell_type": "code",
   "execution_count": 2,
   "id": "a1b33c73",
   "metadata": {},
   "outputs": [
    {
     "data": {
      "text/plain": [
       "'Pattern ----\\tMatches\\n\\\\w+\\twords ----->(letters, digits, _)\\n[A-Z]+ -------->\\tALL CAPS\\n\\\\s+ ---------->\\twhitespace\\n.\\t--------->any single character\\n\\x08\\\\w{4}\\x08 ------>\\texactly 4-letter words'"
      ]
     },
     "execution_count": 2,
     "metadata": {},
     "output_type": "execute_result"
    }
   ],
   "source": [
    "\"\"\"Pattern ----\tMatches\n",
    "\\w+\twords ----->(letters, digits, _)\n",
    "[A-Z]+ -------->\tALL CAPS\n",
    "\\s+ ---------->\twhitespace\n",
    ".\t--------->any single character\n",
    "\\b\\w{4}\\b ------>\texactly 4-letter words\"\"\""
   ]
  }
 ],
 "metadata": {
  "kernelspec": {
   "display_name": "base",
   "language": "python",
   "name": "python3"
  },
  "language_info": {
   "codemirror_mode": {
    "name": "ipython",
    "version": 3
   },
   "file_extension": ".py",
   "mimetype": "text/x-python",
   "name": "python",
   "nbconvert_exporter": "python",
   "pygments_lexer": "ipython3",
   "version": "3.13.5"
  }
 },
 "nbformat": 4,
 "nbformat_minor": 5
}
