{
 "cells": [
  {
   "cell_type": "code",
   "execution_count": null,
   "id": "90b612fd",
   "metadata": {},
   "outputs": [],
   "source": [
    "##Function is a block of code that perform specific task. Functions help in organizing code, reusing code and improving readability.\n",
    "\n",
    "##Syntax\n",
    "def function_name(parameters):\n",
    " \"\"DocString\"\"\n",
    " ##Function body\n",
    " return expression "
   ]
  },
  {
   "cell_type": "code",
   "execution_count": 1,
   "id": "6eba2dbb",
   "metadata": {},
   "outputs": [],
   "source": [
    "def even_odd(num):\n",
    "    \"\"\"\"This function finds even or odd\"\"\"\n",
    "    if num%2==0:\n",
    "        print(\"Number is even\")\n",
    "    else:\n",
    "        print(\"number is odd\")\n",
    "\n"
   ]
  },
  {
   "cell_type": "code",
   "execution_count": 3,
   "id": "9f347597",
   "metadata": {},
   "outputs": [
    {
     "name": "stdout",
     "output_type": "stream",
     "text": [
      "Number is even\n",
      "number is odd\n"
     ]
    }
   ],
   "source": [
    "##call this function\n",
    "even_odd(24)\n",
    "even_odd(41)"
   ]
  },
  {
   "cell_type": "code",
   "execution_count": 5,
   "id": "93434b0e",
   "metadata": {},
   "outputs": [
    {
     "name": "stdout",
     "output_type": "stream",
     "text": [
      "6\n"
     ]
    }
   ],
   "source": [
    "##function with multiple parameters\n",
    "\n",
    "def add(a,b):\n",
    "    return a+b\n",
    "result=add(2,4)\n",
    "print(result)"
   ]
  },
  {
   "cell_type": "code",
   "execution_count": 7,
   "id": "c25073b8",
   "metadata": {},
   "outputs": [
    {
     "name": "stdout",
     "output_type": "stream",
     "text": [
      "Hello Suraj Welcome to the Paradise\n"
     ]
    }
   ],
   "source": [
    "##Default Parameters\n",
    "\n",
    "def greet(name):\n",
    "    print(f\"Hello {name} Welcome to the Paradise\")\n",
    "greet(\"Suraj\")"
   ]
  },
  {
   "cell_type": "code",
   "execution_count": null,
   "id": "d70e8856",
   "metadata": {},
   "outputs": [
    {
     "name": "stdout",
     "output_type": "stream",
     "text": [
      "1\n",
      "2\n",
      "3\n",
      "4\n",
      "5\n",
      "6\n",
      "Dev\n"
     ]
    }
   ],
   "source": [
    "### Variable length Arguments\n",
    "##Positional(*args) and Keyword Arguments\n",
    "\n",
    "def print_numbers(*num): ##Positional Argument\n",
    "    for numbers in num:\n",
    "        print(numbers)\n",
    "\n",
    "print_numbers(1,2,3,4,5,6,\"Dev\")\n",
    "\n"
   ]
  },
  {
   "cell_type": "code",
   "execution_count": 19,
   "id": "533b7b56",
   "metadata": {},
   "outputs": [
    {
     "name": "stdout",
     "output_type": "stream",
     "text": [
      "Name: Suraj\n",
      "Age: 22\n",
      "Country: India\n"
     ]
    }
   ],
   "source": [
    "##Keyword Argument **kwargs \n",
    "##key value pair\n",
    "\n",
    "def print_details(**kwargs):\n",
    "    for key,value in kwargs.items():\n",
    "        print(f\"{key}: {value}\")\n",
    "\n",
    "print_details(Name = \"Suraj\", Age = \"22\", Country = \"India\")"
   ]
  },
  {
   "cell_type": "code",
   "execution_count": 20,
   "id": "adde545e",
   "metadata": {},
   "outputs": [
    {
     "name": "stdout",
     "output_type": "stream",
     "text": [
      "Positional Argument:1\n",
      "Positional Argument:2\n",
      "Positional Argument:3\n",
      "Positional Argument:4\n",
      "Positional Argument:Dev\n",
      "Name: Suraj\n",
      "Age: 22\n"
     ]
    }
   ],
   "source": [
    "##combine both of them\n",
    "def print_details(*args,**kwargs):\n",
    "    \n",
    "    for val in args:\n",
    "        print(f\"Positional Argument:{val}\")\n",
    "    \n",
    "    for key,value in kwargs.items():\n",
    "        print(f\"{key}: {value}\")\n",
    "\n",
    "print_details(1,2,3,4,\"Dev\",Name = \"Suraj\", Age = \"22\")\n"
   ]
  },
  {
   "cell_type": "code",
   "execution_count": 31,
   "id": "1205e1f3",
   "metadata": {},
   "outputs": [
    {
     "data": {
      "text/plain": [
       "12"
      ]
     },
     "execution_count": 31,
     "metadata": {},
     "output_type": "execute_result"
    }
   ],
   "source": [
    "##Return statement\n",
    "def multiply(a,b):\n",
    "    return a*b ##return multiple statements\n",
    "    \n",
    "multiply(3,4)"
   ]
  },
  {
   "cell_type": "code",
   "execution_count": 29,
   "id": "f8770af4",
   "metadata": {},
   "outputs": [
    {
     "data": {
      "text/plain": [
       "(12, 3)"
      ]
     },
     "execution_count": 29,
     "metadata": {},
     "output_type": "execute_result"
    }
   ],
   "source": [
    "##Return multiple statement\n",
    "def multiply(a,b):\n",
    "    return a*b,a\n",
    "    \n",
    "multiply(3,4)"
   ]
  },
  {
   "cell_type": "code",
   "execution_count": null,
   "id": "ed222d0e",
   "metadata": {},
   "outputs": [],
   "source": []
  }
 ],
 "metadata": {
  "kernelspec": {
   "display_name": "Python 3",
   "language": "python",
   "name": "python3"
  },
  "language_info": {
   "codemirror_mode": {
    "name": "ipython",
    "version": 3
   },
   "file_extension": ".py",
   "mimetype": "text/x-python",
   "name": "python",
   "nbconvert_exporter": "python",
   "pygments_lexer": "ipython3",
   "version": "3.10.18"
  }
 },
 "nbformat": 4,
 "nbformat_minor": 5
}
