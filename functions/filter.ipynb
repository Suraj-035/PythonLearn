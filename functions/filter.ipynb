{
 "cells": [
  {
   "cell_type": "markdown",
   "id": "1f1f2e05",
   "metadata": {},
   "source": [
    "The filter() function\n",
    "\n",
    " Constructs an iterator from an elements of an iterable for which a functin returns true. It is used to filter out items from a list (or any other iterable) based on a condition"
   ]
  },
  {
   "cell_type": "code",
   "execution_count": 1,
   "id": "bc229fb1",
   "metadata": {},
   "outputs": [
    {
     "data": {
      "text/plain": [
       "True"
      ]
     },
     "execution_count": 1,
     "metadata": {},
     "output_type": "execute_result"
    }
   ],
   "source": [
    "def even(num):\n",
    "    if num%2==0:\n",
    "        return True\n",
    "even(24)"
   ]
  },
  {
   "cell_type": "code",
   "execution_count": 3,
   "id": "349c6b17",
   "metadata": {},
   "outputs": [
    {
     "data": {
      "text/plain": [
       "[2, 4, 6, 8, 10]"
      ]
     },
     "execution_count": 3,
     "metadata": {},
     "output_type": "execute_result"
    }
   ],
   "source": [
    "lst=[1,2,3,4,5,6,7,8,9,10]\n",
    "list(filter(even,lst))\n"
   ]
  },
  {
   "cell_type": "code",
   "execution_count": 5,
   "id": "73dad802",
   "metadata": {},
   "outputs": [
    {
     "name": "stdout",
     "output_type": "stream",
     "text": [
      "[6, 7, 8, 9, 10]\n"
     ]
    }
   ],
   "source": [
    "##Filter with lambda function\n",
    "\n",
    "numbers=[1,2,3,4,5,6,7,8,9,10]\n",
    "greater_than_five=list(filter(lambda x:x>5,numbers))\n",
    "print(greater_than_five)"
   ]
  },
  {
   "cell_type": "code",
   "execution_count": 6,
   "id": "7af7d3a0",
   "metadata": {},
   "outputs": [
    {
     "name": "stdout",
     "output_type": "stream",
     "text": [
      "[6, 8, 10]\n"
     ]
    }
   ],
   "source": [
    "##Filter with a lambda function and multiple conditions\n",
    "\n",
    "numbers=[1,2,3,4,5,6,7,8,9,10]\n",
    "even_and_greater_than_five=list(filter(lambda x:x>5 and x%2==0,numbers))\n",
    "print(even_and_greater_than_five)"
   ]
  },
  {
   "cell_type": "code",
   "execution_count": 9,
   "id": "d82c543d",
   "metadata": {},
   "outputs": [
    {
     "data": {
      "text/plain": [
       "[{'name': 'Krish', 'age': 36}, {'name': 'Om', 'age': 27}]"
      ]
     },
     "execution_count": 9,
     "metadata": {},
     "output_type": "execute_result"
    }
   ],
   "source": [
    "##Filter() to check if the age is greater than 25 in dictionaries\n",
    "\n",
    "people=[\n",
    "    {'name':'Suraj','age':24},\n",
    "    {'name':'Krish','age':36},\n",
    "     {'name':'Om','age':27}\n",
    "]\n",
    "def age_greater25(person):\n",
    "    return person['age']>25\n",
    "list(filter(age_greater25,people))"
   ]
  },
  {
   "cell_type": "markdown",
   "id": "08049401",
   "metadata": {},
   "source": [
    "Conclusion\n",
    "\n",
    "The filter() fnc is a powerful tool for creating iterators that filter items out of an iterable based on a function. it is commonly used for data cleaning, filtering objects, and removing unwanted elements from lists. By mastering filter(), you can write more concise and efficient code for processing and manipulating collections in Python"
   ]
  },
  {
   "cell_type": "code",
   "execution_count": null,
   "id": "c8a84f94",
   "metadata": {},
   "outputs": [],
   "source": []
  }
 ],
 "metadata": {
  "kernelspec": {
   "display_name": "Python 3",
   "language": "python",
   "name": "python3"
  },
  "language_info": {
   "codemirror_mode": {
    "name": "ipython",
    "version": 3
   },
   "file_extension": ".py",
   "mimetype": "text/x-python",
   "name": "python",
   "nbconvert_exporter": "python",
   "pygments_lexer": "ipython3",
   "version": "3.10.18"
  }
 },
 "nbformat": 4,
 "nbformat_minor": 5
}
