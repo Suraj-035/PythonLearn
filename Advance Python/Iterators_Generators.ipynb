{
 "cells": [
  {
   "cell_type": "markdown",
   "id": "68a16069",
   "metadata": {},
   "source": [
    "## Iterators \n",
    "\n",
    "Iterators are advanced python concept that allow fr efficient looping and memory managemnt. They provide a way to acce elements of a collection sequentially without exposing the underlying structure"
   ]
  },
  {
   "cell_type": "code",
   "execution_count": 50,
   "id": "94acf4ca",
   "metadata": {},
   "outputs": [
    {
     "name": "stdout",
     "output_type": "stream",
     "text": [
      "1\n",
      "2\n",
      "3\n",
      "4\n",
      "5\n"
     ]
    },
    {
     "data": {
      "text/plain": [
       "list"
      ]
     },
     "execution_count": 50,
     "metadata": {},
     "output_type": "execute_result"
    }
   ],
   "source": [
    "my_list = [1,2,3,4,5]\n",
    "for i in my_list:\n",
    "    print(i)\n",
    "    \n",
    "type(my_list)"
   ]
  },
  {
   "cell_type": "code",
   "execution_count": 51,
   "id": "e0afe7cd",
   "metadata": {},
   "outputs": [
    {
     "name": "stdout",
     "output_type": "stream",
     "text": [
      "<class 'list_iterator'>\n"
     ]
    }
   ],
   "source": [
    "##iterator\n",
    "\n",
    "iterator = iter(my_list)\n",
    "print(type(iterator))"
   ]
  },
  {
   "cell_type": "code",
   "execution_count": 52,
   "id": "5dee495c",
   "metadata": {},
   "outputs": [
    {
     "data": {
      "text/plain": [
       "1"
      ]
     },
     "execution_count": 52,
     "metadata": {},
     "output_type": "execute_result"
    }
   ],
   "source": [
    "##iterate through all the elements\n",
    "\n",
    "next(iterator)"
   ]
  },
  {
   "cell_type": "code",
   "execution_count": 53,
   "id": "011b3186",
   "metadata": {},
   "outputs": [],
   "source": [
    "iterator = iter(my_list)"
   ]
  },
  {
   "cell_type": "code",
   "execution_count": 55,
   "id": "5d3a619d",
   "metadata": {},
   "outputs": [
    {
     "name": "stdout",
     "output_type": "stream",
     "text": [
      "2\n"
     ]
    }
   ],
   "source": [
    "\n",
    "\n",
    "try:\n",
    "    print(next(iterator))\n",
    "except StopIteration:\n",
    "    print(\"There are no elements in the iterator\")"
   ]
  },
  {
   "cell_type": "code",
   "execution_count": 25,
   "id": "7c2424a4",
   "metadata": {},
   "outputs": [
    {
     "name": "stdout",
     "output_type": "stream",
     "text": [
      "H\n",
      "e\n"
     ]
    }
   ],
   "source": [
    "## String iterator\n",
    "my_string= \"Hello\"\n",
    "string_iterator=iter(my_string)\n",
    "\n",
    "print(next(string_iterator))\n",
    "print(next(string_iterator))\n"
   ]
  },
  {
   "cell_type": "markdown",
   "id": "15604b2f",
   "metadata": {},
   "source": [
    "## Generators\n",
    "\n",
    "generators are a simpler way to create iterators. they use the yield keyword to produce a series of values lazily, which means they generate values on the fly and donot store them in memory"
   ]
  },
  {
   "cell_type": "code",
   "execution_count": null,
   "id": "4f46edcd",
   "metadata": {},
   "outputs": [],
   "source": [
    "def square(n):\n",
    "    for i in range(3):\n",
    "        yield i**2 ##yield keyword will create a local variable and save the values and keep on giving data not like RETURN"
   ]
  },
  {
   "cell_type": "code",
   "execution_count": 4,
   "id": "fdac496e",
   "metadata": {},
   "outputs": [
    {
     "data": {
      "text/plain": [
       "<generator object square at 0x0000021835EC36B0>"
      ]
     },
     "execution_count": 4,
     "metadata": {},
     "output_type": "execute_result"
    }
   ],
   "source": [
    "square(3)"
   ]
  },
  {
   "cell_type": "code",
   "execution_count": 5,
   "id": "872b6dd6",
   "metadata": {},
   "outputs": [
    {
     "name": "stdout",
     "output_type": "stream",
     "text": [
      "0\n",
      "1\n",
      "4\n"
     ]
    }
   ],
   "source": [
    "for i in square(3):\n",
    "    print(i)"
   ]
  },
  {
   "cell_type": "code",
   "execution_count": 13,
   "id": "47a31160",
   "metadata": {},
   "outputs": [
    {
     "data": {
      "text/plain": [
       "<generator object square at 0x0000021835FEA190>"
      ]
     },
     "execution_count": 13,
     "metadata": {},
     "output_type": "execute_result"
    }
   ],
   "source": [
    "a= square(3)\n",
    "a"
   ]
  },
  {
   "cell_type": "code",
   "execution_count": 18,
   "id": "9181822a",
   "metadata": {},
   "outputs": [
    {
     "ename": "StopIteration",
     "evalue": "",
     "output_type": "error",
     "traceback": [
      "\u001b[1;31m---------------------------------------------------------------------------\u001b[0m",
      "\u001b[1;31mStopIteration\u001b[0m                             Traceback (most recent call last)",
      "Cell \u001b[1;32mIn[18], line 1\u001b[0m\n\u001b[1;32m----> 1\u001b[0m \u001b[38;5;28mnext\u001b[39m(a)\n",
      "\u001b[1;31mStopIteration\u001b[0m: "
     ]
    }
   ],
   "source": [
    "next(a)"
   ]
  },
  {
   "cell_type": "code",
   "execution_count": 56,
   "id": "e72322be",
   "metadata": {},
   "outputs": [
    {
     "name": "stdout",
     "output_type": "stream",
     "text": [
      "1\n",
      "2\n",
      "3\n"
     ]
    }
   ],
   "source": [
    "def my_generator():\n",
    "    yield 1\n",
    "    yield 2\n",
    "    yield 3\n",
    "\n",
    "gen =my_generator()\n",
    "\n",
    "for val in gen:\n",
    "\n",
    "    print(val)"
   ]
  },
  {
   "cell_type": "code",
   "execution_count": 57,
   "id": "ef96f73f",
   "metadata": {},
   "outputs": [
    {
     "ename": "StopIteration",
     "evalue": "",
     "output_type": "error",
     "traceback": [
      "\u001b[1;31m---------------------------------------------------------------------------\u001b[0m",
      "\u001b[1;31mStopIteration\u001b[0m                             Traceback (most recent call last)",
      "Cell \u001b[1;32mIn[57], line 1\u001b[0m\n\u001b[1;32m----> 1\u001b[0m \u001b[38;5;28mnext\u001b[39m(gen)\n",
      "\u001b[1;31mStopIteration\u001b[0m: "
     ]
    }
   ],
   "source": [
    "next(gen)"
   ]
  },
  {
   "cell_type": "markdown",
   "id": "e918f2fd",
   "metadata": {},
   "source": [
    "### example : Reading large files\n",
    "\n",
    "Generators are particularly useful for reading large files because they allow you to process one line at a time without loading the entire file into the memory"
   ]
  },
  {
   "cell_type": "code",
   "execution_count": 40,
   "id": "b3005954",
   "metadata": {},
   "outputs": [],
   "source": [
    "## Practical : Reading Large File\n",
    "\n",
    "def read_large_file(file_path):\n",
    "    with open(file_path,'r') as file:\n",
    "        for line in file:\n",
    "            yield line\n"
   ]
  },
  {
   "cell_type": "code",
   "execution_count": 46,
   "id": "32c670f2",
   "metadata": {},
   "outputs": [
    {
     "name": "stdout",
     "output_type": "stream",
     "text": [
      "Alright Suraj bhai, you’re now touching the OG pillar of Object-Oriented Programming: Encapsulation.\n",
      "\n",
      "Let me break it down for you like a proper Dilli ka coder explaining chai pe charcha. 😎\n",
      "🔐 What's Encapsulation?\n",
      "\n",
      "Encapsulation = Data hiding + Controlled access.\n",
      "\n",
      "You're hiding the internal state (variables) of an object and only letting outside code interact with it through methods (called getters and setters).\n",
      "\n",
      "This protects the object from stupid mistakes like setting a negative age or changing sensitive values directly.\n",
      "\n",
      "1. Why Not Use super().__init__()?\n",
      "\n",
      "That’s a legit question. Here's the thing:\n",
      "super() only works for single inheritance properly, or if your base classes use cooperative multiple inheritance (i.e., all use super() too).\n",
      "\n",
      "But in your code:\n",
      "\n",
      "animal.__init__() is called directly\n",
      "\n",
      "pet.__init__() is also called directly\n",
      "\n",
      "Neither class uses super() in their own __init__\n",
      "\n",
      "🧠 So, super() won’t work correctly unless all parent classes use super() properly. Otherwise, you’d skip one parent entirely.\n",
      "\n",
      "To fix that and use super(), your classes should look like this:\n",
      "Oye Suraj bhai! Tu toh proper OOP warrior banne ko tayyar hai ab 💪\n",
      "Chal, full explain karte hain tujhko — multiple inheritance, super(), and method overriding — sab kuch crystal clear bana dete hain 🧠💥\n",
      "The Catch: You probably ran this in a Jupyter Notebook or IPython\n",
      "\n",
      "In Jupyter or IPython, the variable result may still exist from a previous successful run, and the kernel just reuses the last assigned value.\n",
      "\n",
      "So for example:\n",
      "\n",
      "Run 1: You entered 5, so result = 2.0\n",
      "\n",
      "Run 2: You enter 0, so result = 10/0 fails and isn't redefined\n",
      "\n",
      "But when you print(result), it still holds the previous value (2.0), because Python didn’t crash or redefine it.\n",
      "\n",
      "⚠️ In a real script, you'd get:\n",
      "NameError: name 'result' is not defined\n"
     ]
    }
   ],
   "source": [
    "file_path = 'large_file.txt'\n",
    "\n",
    "for line in read_large_file(file_path):\n",
    "    print(line.strip())"
   ]
  },
  {
   "cell_type": "code",
   "execution_count": null,
   "id": "06ce186f",
   "metadata": {},
   "outputs": [],
   "source": []
  }
 ],
 "metadata": {
  "kernelspec": {
   "display_name": "base",
   "language": "python",
   "name": "python3"
  },
  "language_info": {
   "codemirror_mode": {
    "name": "ipython",
    "version": 3
   },
   "file_extension": ".py",
   "mimetype": "text/x-python",
   "name": "python",
   "nbconvert_exporter": "python",
   "pygments_lexer": "ipython3",
   "version": "3.13.5"
  }
 },
 "nbformat": 4,
 "nbformat_minor": 5
}
