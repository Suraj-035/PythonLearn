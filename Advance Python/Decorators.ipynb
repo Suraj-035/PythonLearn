{
 "cells": [
  {
   "cell_type": "markdown",
   "id": "94da71c8",
   "metadata": {},
   "source": [
    "## Decorators\n",
    "\n",
    "Decorators are a powerful and flexible feature in Python that allows you to modify the behaviour of a function or class method. they are commonly used to add functionality to functions or methods without modyifying their actual code."
   ]
  },
  {
   "cell_type": "code",
   "execution_count": null,
   "id": "a229023f",
   "metadata": {},
   "outputs": [],
   "source": [
    "##function copy\n",
    "##closures\n",
    "##decorators"
   ]
  },
  {
   "cell_type": "code",
   "execution_count": 1,
   "id": "944f04d4",
   "metadata": {},
   "outputs": [
    {
     "data": {
      "text/plain": [
       "'Welcome to the Advanced Python class'"
      ]
     },
     "execution_count": 1,
     "metadata": {},
     "output_type": "execute_result"
    }
   ],
   "source": [
    "##function copy\n",
    "\n",
    "def welcome():\n",
    "    return \"Welcome to the Advanced Python class\"\n",
    "\n",
    "welcome()"
   ]
  },
  {
   "cell_type": "code",
   "execution_count": null,
   "id": "4e9ee9d7",
   "metadata": {},
   "outputs": [
    {
     "data": {
      "text/plain": [
       "'Welcome to the Advanced Python class'"
      ]
     },
     "execution_count": 3,
     "metadata": {},
     "output_type": "execute_result"
    }
   ],
   "source": [
    "wel=welcome\n",
    "wel()\n"
   ]
  },
  {
   "cell_type": "code",
   "execution_count": 4,
   "id": "ab1e4c9a",
   "metadata": {},
   "outputs": [
    {
     "name": "stdout",
     "output_type": "stream",
     "text": [
      "Welcome to the Advanced Python class\n"
     ]
    }
   ],
   "source": [
    "del welcome\n",
    "print(wel())"
   ]
  },
  {
   "cell_type": "markdown",
   "id": "7a6f02f4",
   "metadata": {},
   "source": [
    "✅ del welcome :\n",
    "     You're telling Python: \"Forget the name welcome.\"\n",
    "\n",
    "    It doesn't delete the function itself. Just deletes the name welcome.\n",
    "\n",
    "But wel is still pointing to the same function in memory, so:\n",
    "✅ print(wel())\n",
    "\n",
    "    This still works! Because wel is a legit reference to the function. --> phonenumber example\n"
   ]
  },
  {
   "cell_type": "code",
   "execution_count": 9,
   "id": "7336ad19",
   "metadata": {},
   "outputs": [],
   "source": [
    "## CLosures  -  a function inside a function\n",
    "\n",
    "def main_welcome(msg):\n",
    "\n",
    "    def sub_welcome_method():\n",
    "        print(msg)\n",
    "        \n",
    "        print(\"Welcome to the advanced Python Course\")\n",
    "\n",
    "        print(\"Plz learn the concepts properly\")\n",
    "    return sub_welcome_method()"
   ]
  },
  {
   "cell_type": "code",
   "execution_count": 11,
   "id": "dcd551ad",
   "metadata": {},
   "outputs": [
    {
     "name": "stdout",
     "output_type": "stream",
     "text": [
      "Welcome Everyone\n",
      "Welcome to the advanced Python Course\n",
      "Plz learn the concepts properly\n"
     ]
    }
   ],
   "source": [
    "main_welcome(\"Welcome Everyone\")"
   ]
  },
  {
   "cell_type": "code",
   "execution_count": 16,
   "id": "63b67484",
   "metadata": {},
   "outputs": [
    {
     "name": "stdout",
     "output_type": "stream",
     "text": [
      "Welcome evryone\n",
      "Welcome to the advanced Python Course\n",
      "Plz learn the concepts properly\n"
     ]
    }
   ],
   "source": [
    "def main_welcome(func):\n",
    "\n",
    "    def sub_welcome_method():\n",
    "        func(\"Welcome evryone\")\n",
    "        \n",
    "        print(\"Welcome to the advanced Python Course\")\n",
    "\n",
    "        print(\"Plz learn the concepts properly\")\n",
    "    return sub_welcome_method()\n",
    "\n",
    "main_welcome(print)"
   ]
  },
  {
   "cell_type": "code",
   "execution_count": 1,
   "id": "9767b6f1",
   "metadata": {},
   "outputs": [
    {
     "name": "stdout",
     "output_type": "stream",
     "text": [
      "6\n",
      "Welcome to the advanced Python Course\n",
      "Plz learn the concepts properly\n"
     ]
    }
   ],
   "source": [
    "def main_welcome(func,lst):\n",
    "\n",
    "    def sub_welcome_method():\n",
    "        print(func(lst))\n",
    "        \n",
    "        print(\"Welcome to the advanced Python Course\")\n",
    "\n",
    "        print(\"Plz learn the concepts properly\")\n",
    "    return sub_welcome_method()\n",
    "\n",
    "main_welcome(len,[1,2,3,4,5,6])"
   ]
  },
  {
   "cell_type": "code",
   "execution_count": 2,
   "id": "0c046b2c",
   "metadata": {},
   "outputs": [],
   "source": [
    "##Decorator\n",
    "\n",
    "def main_welcome(func):\n",
    "\n",
    "    def sub_welcome_method():\n",
    "        func()\n",
    "        \n",
    "        print(\"Welcome to the advanced Python Course\")\n",
    "\n",
    "        print(\"Plz learn the concepts properly\")\n",
    "    return sub_welcome_method()\n"
   ]
  },
  {
   "cell_type": "code",
   "execution_count": 8,
   "id": "6e3024b9",
   "metadata": {},
   "outputs": [
    {
     "name": "stdout",
     "output_type": "stream",
     "text": [
      "this is a course for machine learning\n",
      "Welcome to the advanced Python Course\n",
      "Plz learn the concepts properly\n"
     ]
    }
   ],
   "source": [
    "def course_introduction():\n",
    "    print(\"this is a course for machine learning\")\n",
    "\n",
    "main_welcome(course_introduction)"
   ]
  },
  {
   "cell_type": "code",
   "execution_count": 6,
   "id": "3581d195",
   "metadata": {},
   "outputs": [
    {
     "name": "stdout",
     "output_type": "stream",
     "text": [
      "this is a course for machine learning\n",
      "Welcome to the advanced Python Course\n",
      "Plz learn the concepts properly\n"
     ]
    }
   ],
   "source": [
    "@main_welcome\n",
    "def course_introduction(): ##this means that this function is going to be calle under @main_welcome directly\n",
    "    print(\"this is a course for machine learning\")"
   ]
  },
  {
   "cell_type": "code",
   "execution_count": 9,
   "id": "67d98740",
   "metadata": {},
   "outputs": [],
   "source": [
    "##2nd example\n",
    "\n",
    "def my_decorator(func):\n",
    "    def wrapper():\n",
    "        print(\"Something is happening before the function is called\")\n",
    "        func()\n",
    "        print(\"Something is happening after the function is called\")\n",
    "    return wrapper()"
   ]
  },
  {
   "cell_type": "code",
   "execution_count": 10,
   "id": "d7c08274",
   "metadata": {},
   "outputs": [
    {
     "name": "stdout",
     "output_type": "stream",
     "text": [
      "Something is happening before the function is called\n",
      "hello\n",
      "Something is happening after the function is called\n"
     ]
    }
   ],
   "source": [
    "@my_decorator\n",
    "def say_hello():\n",
    "    print(\"hello\")"
   ]
  },
  {
   "cell_type": "code",
   "execution_count": 2,
   "id": "8f484b97",
   "metadata": {},
   "outputs": [
    {
     "name": "stdout",
     "output_type": "stream",
     "text": [
      "Hello\n",
      "Hello\n",
      "Hello\n"
     ]
    }
   ],
   "source": [
    "#decorators with arguments\n",
    "def repeat(n):  # <- Step 1: Outer function that takes argument `n`\n",
    "    def decorator(func):  # <- Step 2: This takes the function to decorate\n",
    "        def wrapper(*args, **kwargs):  # <- Step 3: This actually wraps the function\n",
    "            for _ in range(n):  # <- Step 4: Run it `n` times\n",
    "                func(*args, **kwargs)\n",
    "        return wrapper  # <- Step 5: Return the new function\n",
    "    return decorator  # <- Step 6: Return the decorator itself\n",
    "\n",
    "@repeat(3)  # <- Step 7: Decorator is called with 3 → repeat(3)\n",
    "def say_hello():\n",
    "    print(\"Hello\")\n",
    "\n",
    "say_hello()  # <- Step 8: Actually runs the final wrapped function"
   ]
  },
  {
   "cell_type": "code",
   "execution_count": null,
   "id": "cc317a54",
   "metadata": {},
   "outputs": [],
   "source": []
  },
  {
   "cell_type": "code",
   "execution_count": null,
   "id": "cfb291bc",
   "metadata": {},
   "outputs": [],
   "source": []
  }
 ],
 "metadata": {
  "kernelspec": {
   "display_name": "base",
   "language": "python",
   "name": "python3"
  },
  "language_info": {
   "codemirror_mode": {
    "name": "ipython",
    "version": 3
   },
   "file_extension": ".py",
   "mimetype": "text/x-python",
   "name": "python",
   "nbconvert_exporter": "python",
   "pygments_lexer": "ipython3",
   "version": "3.13.5"
  }
 },
 "nbformat": 4,
 "nbformat_minor": 5
}
