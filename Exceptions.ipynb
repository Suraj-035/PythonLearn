{
 "cells": [
  {
   "cell_type": "markdown",
   "id": "0d138cf5",
   "metadata": {},
   "source": [
    "##Understanding Exceptions\n",
    "\n",
    "Exception handling in Python allows user to handle errors gracefully and take coorective actions without stopping the execution of the program. \n",
    "\n",
    "Exceptions are events that disrupt the normal flow of a program. They occur when an error is encountered during program execution. Common exceptions include:\n",
    "\n",
    ". ZeroDivision Error: Dividing by Zero\n",
    "\n",
    ". FileNotFound Error: File not Found\n",
    "\n",
    ". ValueError: Invalid value\n",
    "\n",
    ". TypeError: Invalid Type"
   ]
  },
  {
   "cell_type": "code",
   "execution_count": 1,
   "id": "ee73370f",
   "metadata": {},
   "outputs": [
    {
     "name": "stdout",
     "output_type": "stream",
     "text": [
      "The variable has not be assigned\n"
     ]
    }
   ],
   "source": [
    "##Exception try,except block\n",
    "try:\n",
    "    a=b\n",
    "except:\n",
    "    print(\"The variable has not be assigned\")"
   ]
  },
  {
   "cell_type": "code",
   "execution_count": 2,
   "id": "ad5af8c2",
   "metadata": {},
   "outputs": [
    {
     "ename": "NameError",
     "evalue": "name 'b' is not defined",
     "output_type": "error",
     "traceback": [
      "\u001b[1;31m---------------------------------------------------------------------------\u001b[0m",
      "\u001b[1;31mNameError\u001b[0m                                 Traceback (most recent call last)",
      "Cell \u001b[1;32mIn[2], line 1\u001b[0m\n\u001b[1;32m----> 1\u001b[0m a\u001b[38;5;241m=\u001b[39mb\n",
      "\u001b[1;31mNameError\u001b[0m: name 'b' is not defined"
     ]
    }
   ],
   "source": [
    "a=b"
   ]
  },
  {
   "cell_type": "code",
   "execution_count": null,
   "id": "add09fbf",
   "metadata": {},
   "outputs": [
    {
     "name": "stdout",
     "output_type": "stream",
     "text": [
      "name 'b' is not defined\n"
     ]
    }
   ],
   "source": [
    "try:\n",
    "    a=b\n",
    "except NameError as ex:\n",
    "    print(ex) #same as above error      "
   ]
  },
  {
   "cell_type": "code",
   "execution_count": null,
   "id": "48865472",
   "metadata": {},
   "outputs": [
    {
     "name": "stdout",
     "output_type": "stream",
     "text": [
      "Are you crazy its division by zero\n"
     ]
    }
   ],
   "source": [
    "try:\n",
    "    result=1/0\n",
    "except ZeroDivisionError as ex:\n",
    "    print(f\"Are you crazy its {ex}\")\n"
   ]
  },
  {
   "cell_type": "code",
   "execution_count": 10,
   "id": "68d62f06",
   "metadata": {},
   "outputs": [
    {
     "name": "stdout",
     "output_type": "stream",
     "text": [
      "name 'b' is not defined\n",
      "main exception caught here\n"
     ]
    }
   ],
   "source": [
    "try:\n",
    "    result=1/2\n",
    "    a=b\n",
    "except ZeroDivisionError as ex:\n",
    "    print(f\"Are you crazy its {ex}\")\n",
    "except Exception as ex1: ##Parent  class :Exception\n",
    "    print(ex1)\n",
    "    print(\"main exception caught here\")"
   ]
  },
  {
   "cell_type": "code",
   "execution_count": 21,
   "id": "2c85a5ea",
   "metadata": {},
   "outputs": [
    {
     "name": "stdout",
     "output_type": "stream",
     "text": [
      "Division by Zero is not Possible !!\n"
     ]
    }
   ],
   "source": [
    "try:\n",
    "    num=int(input(\"Enter a number\"))\n",
    "    result=10/num\n",
    "except ValueError:\n",
    "    print(\"This is not a valid number\")\n",
    "    result = None\n",
    "except ZeroDivisionError:\n",
    "    print(\"Division by Zero is not Possible !!\")\n",
    "    result = None\n",
    "if result is not None:\n",
    "     print(f\"the result is {result}\")"
   ]
  },
  {
   "cell_type": "code",
   "execution_count": 25,
   "id": "de738019",
   "metadata": {},
   "outputs": [
    {
     "name": "stdout",
     "output_type": "stream",
     "text": [
      "This is not a valid number\n"
     ]
    }
   ],
   "source": [
    "##try, except, else\n",
    "try:\n",
    "    num=int(input(\"Enter a number\"))\n",
    "    result=50/num\n",
    "except ValueError:\n",
    "    print(\"This is not a valid number\")\n",
    "    \n",
    "except ZeroDivisionError:\n",
    "    print(\"Division by Zero is not Possible !!\")\n",
    "else:\n",
    "    print(f\"the result is {result}\")"
   ]
  },
  {
   "cell_type": "code",
   "execution_count": null,
   "id": "23dba597",
   "metadata": {},
   "outputs": [
    {
     "name": "stdout",
     "output_type": "stream",
     "text": [
      "the result is 5.0\n",
      "Execution complete\n"
     ]
    }
   ],
   "source": [
    "##try, except, else, finally\n",
    "try:\n",
    "    num=int(input(\"Enter a number\"))\n",
    "    result=50/num\n",
    "except ValueError:\n",
    "    print(\"This is not a valid number\")\n",
    "    \n",
    "except ZeroDivisionError:\n",
    "    print(\"Division by Zero is not Possible !!\")\n",
    "else:\n",
    "    print(f\"the result is {result}\")\n",
    "finally:                ##whether the error/result is coming or not , it has to be executed\n",
    "    print(\"Execution complete\") "
   ]
  },
  {
   "cell_type": "code",
   "execution_count": 29,
   "id": "75e3cb7d",
   "metadata": {},
   "outputs": [
    {
     "name": "stdout",
     "output_type": "stream",
     "text": [
      "The file doesnot exist\n"
     ]
    }
   ],
   "source": [
    "##file handling and exception handling\n",
    "\n",
    "try:\n",
    "    file=open('simple text.txt','r')\n",
    "    content=file.read()\n",
    "    print(content)\n",
    "\n",
    "except FileNotFoundError:\n",
    "    print(\"The file doesnot exist\")\n",
    "\n",
    "finally:\n",
    "    if 'file' in locals() and not file.closed():\n",
    "        file.close()\n",
    "        print(\"file closed\")"
   ]
  },
  {
   "cell_type": "code",
   "execution_count": null,
   "id": "48190b5c",
   "metadata": {},
   "outputs": [],
   "source": []
  }
 ],
 "metadata": {
  "kernelspec": {
   "display_name": "base",
   "language": "python",
   "name": "python3"
  },
  "language_info": {
   "codemirror_mode": {
    "name": "ipython",
    "version": 3
   },
   "file_extension": ".py",
   "mimetype": "text/x-python",
   "name": "python",
   "nbconvert_exporter": "python",
   "pygments_lexer": "ipython3",
   "version": "3.13.5"
  }
 },
 "nbformat": 4,
 "nbformat_minor": 5
}
