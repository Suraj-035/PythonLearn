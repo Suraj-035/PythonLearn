{
 "cells": [
  {
   "cell_type": "code",
   "execution_count": 2,
   "id": "2468cc04",
   "metadata": {},
   "outputs": [],
   "source": [
    "#Dictionaries - unordered collection of items. they store data in key value pairs. key must be unique and immutable."
   ]
  },
  {
   "cell_type": "code",
   "execution_count": 4,
   "id": "d1ad9a6d",
   "metadata": {},
   "outputs": [
    {
     "name": "stdout",
     "output_type": "stream",
     "text": [
      "<class 'dict'>\n"
     ]
    }
   ],
   "source": [
    "##Creating Dictionaries\n",
    "empty_dict={}\n",
    "print(type(empty_dict))"
   ]
  },
  {
   "cell_type": "code",
   "execution_count": 5,
   "id": "e1cdd90d",
   "metadata": {},
   "outputs": [
    {
     "data": {
      "text/plain": [
       "{}"
      ]
     },
     "execution_count": 5,
     "metadata": {},
     "output_type": "execute_result"
    }
   ],
   "source": [
    "empty_dict=dict()\n",
    "empty_dict\n"
   ]
  },
  {
   "cell_type": "code",
   "execution_count": 6,
   "id": "a3728653",
   "metadata": {},
   "outputs": [
    {
     "name": "stdout",
     "output_type": "stream",
     "text": [
      "{'name': 'Krishna', 'age': 32, 'grade': 24}\n",
      "<class 'dict'>\n"
     ]
    }
   ],
   "source": [
    "student={\"name\" :\"Krishna\",\"age\": 32,\"grade\":24}\n",
    "print(student)\n",
    "print(type(student))"
   ]
  },
  {
   "cell_type": "code",
   "execution_count": 11,
   "id": "aae999f8",
   "metadata": {},
   "outputs": [
    {
     "name": "stdout",
     "output_type": "stream",
     "text": [
      "Krishna\n",
      "32\n",
      "24\n",
      "None\n",
      "Not Available\n"
     ]
    }
   ],
   "source": [
    "#Accesing Dictionary elements\n",
    "\n",
    "print(student['name'])\n",
    "print(student['age'])\n",
    "\n",
    "##Accesing using get() method\n",
    "print(student.get('grade'))\n",
    "print(student.get('last_name'))\n",
    "print(student.get('last_name',\"Not Available\"))"
   ]
  },
  {
   "cell_type": "code",
   "execution_count": 13,
   "id": "2d676e3d",
   "metadata": {},
   "outputs": [
    {
     "name": "stdout",
     "output_type": "stream",
     "text": [
      "{'name': 'Krishna', 'age': 32, 'grade': 24}\n"
     ]
    }
   ],
   "source": [
    "#Modyfying Dictionary Elements \n",
    "##Dictinary are mutable, so you can aadd, update or delete elements\n",
    "\n",
    "print(student)"
   ]
  },
  {
   "cell_type": "code",
   "execution_count": null,
   "id": "e011281b",
   "metadata": {},
   "outputs": [
    {
     "name": "stdout",
     "output_type": "stream",
     "text": [
      "{'name': 'Krishna', 'age': 33, 'grade': 24}\n",
      "{'name': 'Krishna', 'age': 33, 'grade': 24, 'address': 'India'}\n"
     ]
    }
   ],
   "source": [
    "student[\"age\"] =33 #Updated value\n",
    "print(student)\n",
    "student[\"address\"]=\"India\" #added a new key and value\n",
    "print(student)"
   ]
  },
  {
   "cell_type": "code",
   "execution_count": 15,
   "id": "567bc277",
   "metadata": {},
   "outputs": [
    {
     "name": "stdout",
     "output_type": "stream",
     "text": [
      "{'name': 'Krishna', 'age': 33, 'address': 'India'}\n"
     ]
    }
   ],
   "source": [
    "del student['grade'] #delete key and value\n",
    "print(student)"
   ]
  },
  {
   "cell_type": "code",
   "execution_count": 17,
   "id": "9e171091",
   "metadata": {},
   "outputs": [
    {
     "name": "stdout",
     "output_type": "stream",
     "text": [
      "dict_keys(['name', 'age', 'address'])\n",
      "dict_values(['Krishna', 33, 'India'])\n",
      "dict_items([('name', 'Krishna'), ('age', 33), ('address', 'India')])\n"
     ]
    }
   ],
   "source": [
    "##Dictionary methods\n",
    "\n",
    "keys=student.keys() ##get all keys\n",
    "print(keys)\n",
    "values=student.values() #get all values\n",
    "print(values)\n",
    "\n",
    "items=student.items()\n",
    "print(items)"
   ]
  },
  {
   "cell_type": "code",
   "execution_count": 9,
   "id": "2826bfa8",
   "metadata": {},
   "outputs": [
    {
     "name": "stdout",
     "output_type": "stream",
     "text": [
      "{'name': 'Krishna', 'age': 32, 'grade': 24}\n",
      "{'name': 'Krishna', 'age': 32, 'grade': 24}\n"
     ]
    }
   ],
   "source": [
    "## Shallow copy\n",
    "student={\"name\" :\"Krishna\",\"age\": 32,\"grade\":24}\n",
    "print(student)\n",
    "student_copy = student\n",
    "print(student_copy)"
   ]
  },
  {
   "cell_type": "code",
   "execution_count": 10,
   "id": "0b836e76",
   "metadata": {},
   "outputs": [
    {
     "name": "stdout",
     "output_type": "stream",
     "text": [
      "{'name': 'Krishna', 'age': 32, 'grade': 24}\n",
      "{'name': 'krish2', 'age': 32, 'grade': 24}\n"
     ]
    }
   ],
   "source": [
    "print(student)\n",
    "student[\"name\"]= \"krish2\"\n",
    "print(student)\n"
   ]
  },
  {
   "cell_type": "code",
   "execution_count": 11,
   "id": "398c90d3",
   "metadata": {},
   "outputs": [
    {
     "name": "stdout",
     "output_type": "stream",
     "text": [
      "{'name': 'krish2', 'age': 32, 'grade': 24}\n",
      "{'name': 'krish2', 'age': 32, 'grade': 24}\n"
     ]
    }
   ],
   "source": [
    "student_copy1=student.copy() #shallow copy\n",
    "print(student_copy1)\n",
    "print(student)"
   ]
  },
  {
   "cell_type": "code",
   "execution_count": null,
   "id": "a8503d08",
   "metadata": {},
   "outputs": [
    {
     "name": "stdout",
     "output_type": "stream",
     "text": [
      "{'name': 'Suraj', 'age': 32, 'grade': 24}\n",
      "{'name': 'krish2', 'age': 32, 'grade': 24}\n"
     ]
    }
   ],
   "source": [
    "student['name']= \"Suraj\"\n",
    "print(student)\n",
    "print(student_copy1)"
   ]
  },
  {
   "cell_type": "code",
   "execution_count": null,
   "id": "2fead756",
   "metadata": {},
   "outputs": [],
   "source": []
  }
 ],
 "metadata": {
  "kernelspec": {
   "display_name": "Python 3",
   "language": "python",
   "name": "python3"
  },
  "language_info": {
   "codemirror_mode": {
    "name": "ipython",
    "version": 3
   },
   "file_extension": ".py",
   "mimetype": "text/x-python",
   "name": "python",
   "nbconvert_exporter": "python",
   "pygments_lexer": "ipython3",
   "version": "3.11.2"
  }
 },
 "nbformat": 4,
 "nbformat_minor": 5
}
