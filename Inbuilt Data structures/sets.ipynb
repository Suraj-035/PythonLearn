{
 "cells": [
  {
   "cell_type": "code",
   "execution_count": null,
   "id": "f0374388",
   "metadata": {},
   "outputs": [],
   "source": [
    "#SETs - buuiltin sata type in Python used to store collections o unique items. \n",
    "# they are unordered, meaning that the elemts donot follow a specific order & dont allow duplicate elements."
   ]
  },
  {
   "cell_type": "code",
   "execution_count": 4,
   "id": "6c4203bd",
   "metadata": {},
   "outputs": [
    {
     "name": "stdout",
     "output_type": "stream",
     "text": [
      "{1, 2, 3, 4, 5}\n",
      "<class 'set'>\n"
     ]
    }
   ],
   "source": [
    "#create a set\n",
    "my_set={1,2,3,4,5}\n",
    "print(my_set)\n",
    "print(type(my_set))"
   ]
  },
  {
   "cell_type": "code",
   "execution_count": null,
   "id": "9aff9032",
   "metadata": {},
   "outputs": [
    {
     "name": "stdout",
     "output_type": "stream",
     "text": [
      "{1, 2, 3, 4, 5, 6, 7, 8}\n"
     ]
    }
   ],
   "source": [
    "my_empty_set=set([1,2,3,4,4,5,6,7,7,8])\n",
    "print(my_empty_set) ##remove duplicate elements"
   ]
  },
  {
   "cell_type": "code",
   "execution_count": 10,
   "id": "c22c7f12",
   "metadata": {},
   "outputs": [
    {
     "name": "stdout",
     "output_type": "stream",
     "text": [
      "{1, 2, 3, 4, 5, 7}\n",
      "{1, 2, 4, 5, 7}\n"
     ]
    }
   ],
   "source": [
    "## Basic set operations\n",
    "#adding and removing\n",
    "\n",
    "my_set.add(7)\n",
    "print(my_set)\n",
    "my_set.remove(3)\n",
    "print(my_set)"
   ]
  },
  {
   "cell_type": "code",
   "execution_count": null,
   "id": "43edeefe",
   "metadata": {},
   "outputs": [
    {
     "name": "stdout",
     "output_type": "stream",
     "text": [
      "{1, 2, 4, 5, 7}\n"
     ]
    }
   ],
   "source": [
    "my_set.discard(11) #remove an element if it is an element\n",
    "print(my_set)"
   ]
  },
  {
   "cell_type": "code",
   "execution_count": 3,
   "id": "ff3708d9",
   "metadata": {},
   "outputs": [
    {
     "name": "stdout",
     "output_type": "stream",
     "text": [
      "1\n",
      "{2, 3, 4, 5, 6}\n"
     ]
    }
   ],
   "source": [
    "## pop method\n",
    "removed_element=my_set.pop()\n",
    "print(removed_element)\n",
    "print(my_set)"
   ]
  },
  {
   "cell_type": "code",
   "execution_count": 2,
   "id": "e182bd90",
   "metadata": {},
   "outputs": [
    {
     "name": "stdout",
     "output_type": "stream",
     "text": [
      "True\n",
      "False\n"
     ]
    }
   ],
   "source": [
    "#Set Membership Test\n",
    "\n",
    "my_set={1,2,3,4,5,6}\n",
    "print(3 in my_set)\n",
    "print(10 in my_set)"
   ]
  },
  {
   "cell_type": "code",
   "execution_count": null,
   "id": "815310d1",
   "metadata": {},
   "outputs": [
    {
     "name": "stdout",
     "output_type": "stream",
     "text": [
      "{1, 2, 3, 4, 5, 6, 7, 8, 9}\n",
      "{4, 5}\n",
      "{4, 5}\n"
     ]
    }
   ],
   "source": [
    "# Mathematical Operations\n",
    "\n",
    "set1 = {1,2,3,4,5}\n",
    "set2={4,5,6,7,8,9}\n",
    "\n",
    "##Union\n",
    "union_set=set1.union(set2)\n",
    "print(union_set)\n",
    "\n",
    "##Intersection\n",
    "intersection_set=set1.intersection(set2)\n",
    "print(intersection_set)\n",
    "\n",
    "set1.intersection_update(set2) ##overwrites the value of set1 with intersection\n",
    "print(set1)\n"
   ]
  },
  {
   "cell_type": "code",
   "execution_count": 18,
   "id": "3aac4d50",
   "metadata": {},
   "outputs": [
    {
     "name": "stdout",
     "output_type": "stream",
     "text": [
      "{1, 2, 3}\n"
     ]
    },
    {
     "data": {
      "text/plain": [
       "{6, 7, 8, 9}"
      ]
     },
     "execution_count": 18,
     "metadata": {},
     "output_type": "execute_result"
    }
   ],
   "source": [
    "set1 = {1,2,3,4,5}\n",
    "set2={4,5,6,7,8,9}\n",
    "##Difference\n",
    "print(set1.difference(set2))\n",
    "\n",
    "set2.difference(set1)"
   ]
  },
  {
   "cell_type": "code",
   "execution_count": null,
   "id": "78f84cb0",
   "metadata": {},
   "outputs": [
    {
     "data": {
      "text/plain": [
       "{1, 2, 3, 6, 7, 8, 9}"
      ]
     },
     "execution_count": 17,
     "metadata": {},
     "output_type": "execute_result"
    }
   ],
   "source": [
    "##Symmetric Difference - The unique elements from both the sides are combined\n",
    "set1.symmetric_difference(set2)"
   ]
  },
  {
   "cell_type": "code",
   "execution_count": null,
   "id": "2089a80d",
   "metadata": {},
   "outputs": [
    {
     "name": "stdout",
     "output_type": "stream",
     "text": [
      "False\n",
      "False\n"
     ]
    }
   ],
   "source": [
    "#3Set methods\n",
    "set1 = {1,2,3,}\n",
    "set2={3,4,5}\n",
    "print(set1.issubset(set2)) ## is subset\n",
    "\n",
    "print(set1.issuperset(set2)) ##super set - must contain all the value from the set1"
   ]
  },
  {
   "cell_type": "code",
   "execution_count": 28,
   "id": "97d02d84",
   "metadata": {},
   "outputs": [
    {
     "data": {
      "text/plain": [
       "{1, 2, 3, 4, 5}"
      ]
     },
     "execution_count": 28,
     "metadata": {},
     "output_type": "execute_result"
    }
   ],
   "source": [
    "lt=[1,2,3,4,5,4,3,3]\n",
    "\n",
    "set(lt)"
   ]
  },
  {
   "cell_type": "code",
   "execution_count": 29,
   "id": "d0d35d98",
   "metadata": {},
   "outputs": [
    {
     "name": "stdout",
     "output_type": "stream",
     "text": [
      "{'My', 'Hello', 'programming', 'Languange', 'World,', 'First'}\n",
      "6\n"
     ]
    }
   ],
   "source": [
    "#Counting Unique words in text\n",
    "\n",
    "text=\"Hello World, My First programming Languange\"\n",
    "words=text.split()\n",
    "\n",
    "##Convert list of words to get unique words\n",
    "\n",
    "unique_words=set(words)\n",
    "print(unique_words)\n",
    "print(len(unique_words))"
   ]
  },
  {
   "cell_type": "code",
   "execution_count": null,
   "id": "477b7df5",
   "metadata": {},
   "outputs": [],
   "source": []
  }
 ],
 "metadata": {
  "kernelspec": {
   "display_name": "Python 3",
   "language": "python",
   "name": "python3"
  },
  "language_info": {
   "codemirror_mode": {
    "name": "ipython",
    "version": 3
   },
   "file_extension": ".py",
   "mimetype": "text/x-python",
   "name": "python",
   "nbconvert_exporter": "python",
   "pygments_lexer": "ipython3",
   "version": "3.11.2"
  }
 },
 "nbformat": 4,
 "nbformat_minor": 5
}
