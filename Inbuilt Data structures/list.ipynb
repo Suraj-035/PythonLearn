{
 "cells": [
  {
   "cell_type": "code",
   "execution_count": 1,
   "id": "222cb7df",
   "metadata": {},
   "outputs": [
    {
     "name": "stdout",
     "output_type": "stream",
     "text": [
      "Hello World\n"
     ]
    }
   ],
   "source": [
    "print(\"Hello World\")"
   ]
  },
  {
   "cell_type": "code",
   "execution_count": 4,
   "id": "f1eb567b",
   "metadata": {},
   "outputs": [
    {
     "data": {
      "text/plain": [
       "list"
      ]
     },
     "execution_count": 4,
     "metadata": {},
     "output_type": "execute_result"
    }
   ],
   "source": [
    "lst=[]\n",
    "type(lst)"
   ]
  },
  {
   "cell_type": "code",
   "execution_count": 13,
   "id": "351cefce",
   "metadata": {},
   "outputs": [
    {
     "name": "stdout",
     "output_type": "stream",
     "text": [
      "['krish', 'suraj', 'apple', 'orange']\n",
      "orange\n",
      "suraj\n",
      "['suraj', 'apple', 'orange']\n",
      "['suraj', 'apple']\n"
     ]
    }
   ],
   "source": [
    "names = [\"krish\", \"suraj\", \"apple\",\"orange\"]\n",
    "print(names)\n",
    "print(names[3])\n",
    "print(names[-3]);  print(names[1:])\n",
    "print(names[1:3])"
   ]
  },
  {
   "cell_type": "code",
   "execution_count": 15,
   "id": "983e785a",
   "metadata": {},
   "outputs": [
    {
     "name": "stdout",
     "output_type": "stream",
     "text": [
      "['krish', 'watermelon', 'apple', 'orange']\n"
     ]
    }
   ],
   "source": [
    "##MOdification of list elements\n",
    "\n",
    "names[1]= \"watermelon\"\n",
    "print(names)"
   ]
  },
  {
   "cell_type": "code",
   "execution_count": 21,
   "id": "c5b8fa87",
   "metadata": {},
   "outputs": [
    {
     "name": "stdout",
     "output_type": "stream",
     "text": [
      "['krish', 'kiwi', 'watermelon', 'apple', 'orange', 'Suraj', 'Suraj', 'Suraj', 'Suraj', 'Suraj', 'Suraj']\n",
      "['krish', 'kiwi', 'kiwi', 'watermelon', 'apple', 'orange', 'Suraj', 'Suraj', 'Suraj', 'Suraj', 'Suraj', 'Suraj']\n"
     ]
    }
   ],
   "source": [
    "names.append(\"Suraj\")\n",
    "print(names)\n",
    "names.insert(1,\"kiwi\")\n",
    "print(names)"
   ]
  },
  {
   "cell_type": "code",
   "execution_count": null,
   "id": "9ff66833",
   "metadata": {},
   "outputs": [
    {
     "name": "stdout",
     "output_type": "stream",
     "text": [
      "['krish', 'watermelon', 'apple', 'orange']\n"
     ]
    },
    {
     "data": {
      "text/plain": [
       "'orange'"
      ]
     },
     "execution_count": 31,
     "metadata": {},
     "output_type": "execute_result"
    }
   ],
   "source": [
    "names.remove(\"kiwi\")##removing the first occurence of an item\n",
    "print(names)\n",
    "names.pop()\n",
    "print(names)"
   ]
  },
  {
   "cell_type": "code",
   "execution_count": 38,
   "id": "ce54ec75",
   "metadata": {},
   "outputs": [
    {
     "name": "stdout",
     "output_type": "stream",
     "text": [
      "['krish', 'watermelon', 'apple']\n",
      "1\n"
     ]
    }
   ],
   "source": [
    "print(names)\n",
    "r =names.index(\"watermelon\")\n",
    "print(r)"
   ]
  },
  {
   "cell_type": "code",
   "execution_count": 40,
   "id": "aa66dd93",
   "metadata": {},
   "outputs": [
    {
     "name": "stdout",
     "output_type": "stream",
     "text": [
      "2\n"
     ]
    }
   ],
   "source": [
    "names.insert(2,\"kiwi\")\n",
    "print(names.count(\"kiwi\"))"
   ]
  },
  {
   "cell_type": "code",
   "execution_count": 45,
   "id": "4c4d20d6",
   "metadata": {},
   "outputs": [
    {
     "name": "stdout",
     "output_type": "stream",
     "text": [
      "['apple', 'kiwi', 'kiwi', 'krish', 'watermelon']\n",
      "['watermelon', 'krish', 'kiwi', 'kiwi', 'apple']\n"
     ]
    }
   ],
   "source": [
    "names.sort();print(names);\n",
    "names.reverse();print(names)\n"
   ]
  },
  {
   "cell_type": "code",
   "execution_count": 47,
   "id": "17b213ea",
   "metadata": {},
   "outputs": [
    {
     "name": "stdout",
     "output_type": "stream",
     "text": [
      "[]\n"
     ]
    }
   ],
   "source": [
    "names.clear()\n",
    "print(names)"
   ]
  },
  {
   "cell_type": "code",
   "execution_count": 49,
   "id": "58730159",
   "metadata": {},
   "outputs": [
    {
     "name": "stdout",
     "output_type": "stream",
     "text": [
      "[3, 4, 5]\n",
      "[1, 2, 3, 4, 5]\n",
      "[6, 7, 8, 9, 10]\n",
      "[1, 3, 5, 7, 9]\n",
      "[10, 9, 8, 7, 6, 5, 4, 3, 2, 1]\n"
     ]
    }
   ],
   "source": [
    "#3#Slicing List\n",
    "\n",
    "numbers=[1,2,3,4,5,6,7,8,9,10]\n",
    "print(numbers[2:5])\n",
    "print(numbers[:5])\n",
    "print(numbers[5:])\n",
    "print(numbers[::2])\n",
    "print(numbers[::-1])\n"
   ]
  },
  {
   "cell_type": "code",
   "execution_count": 50,
   "id": "e07b53ea",
   "metadata": {},
   "outputs": [
    {
     "name": "stdout",
     "output_type": "stream",
     "text": [
      "1\n",
      "2\n",
      "3\n",
      "4\n",
      "5\n",
      "6\n",
      "7\n",
      "8\n",
      "9\n",
      "10\n"
     ]
    }
   ],
   "source": [
    "##Iterating over List\n",
    "\n",
    "for n in numbers:\n",
    "    print(n) "
   ]
  },
  {
   "cell_type": "code",
   "execution_count": null,
   "id": "b66e90dc",
   "metadata": {},
   "outputs": [
    {
     "name": "stdout",
     "output_type": "stream",
     "text": [
      "0 1\n",
      "1 2\n",
      "2 3\n",
      "3 4\n",
      "4 5\n",
      "5 6\n",
      "6 7\n",
      "7 8\n",
      "8 9\n",
      "9 10\n"
     ]
    }
   ],
   "source": [
    "for index,n in enumerate(numbers): ##iterarting with indeX\n",
    "    print(index,n)"
   ]
  },
  {
   "cell_type": "code",
   "execution_count": 52,
   "id": "22535a6f",
   "metadata": {},
   "outputs": [
    {
     "name": "stdout",
     "output_type": "stream",
     "text": [
      "[0, 1, 4, 9, 16, 25, 36, 49, 64, 81]\n"
     ]
    }
   ],
   "source": [
    "##List comprehension\n",
    "lst=[]\n",
    "for x in range(10):\n",
    "    lst.append(x**2)\n",
    "\n",
    "print(lst)\n"
   ]
  },
  {
   "cell_type": "code",
   "execution_count": 56,
   "id": "50bd54ea",
   "metadata": {},
   "outputs": [
    {
     "data": {
      "text/plain": [
       "[0, 1, 8, 27, 64, 125, 216, 343, 512, 729, 1000]"
      ]
     },
     "execution_count": 56,
     "metadata": {},
     "output_type": "execute_result"
    }
   ],
   "source": [
    "[x**3 for x in range(11)]"
   ]
  },
  {
   "cell_type": "code",
   "execution_count": 59,
   "id": "128c1bee",
   "metadata": {},
   "outputs": [
    {
     "name": "stdout",
     "output_type": "stream",
     "text": [
      "[0, 2, 4, 6, 8]\n"
     ]
    }
   ],
   "source": [
    "lst=[]\n",
    "for i in range(10):\n",
    "    if i%2==0:\n",
    "        lst.append(i)\n",
    "print(lst)\n"
   ]
  },
  {
   "cell_type": "code",
   "execution_count": null,
   "id": "ca33d577",
   "metadata": {},
   "outputs": [
    {
     "name": "stdout",
     "output_type": "stream",
     "text": [
      "[0, 2, 4, 6, 8]\n"
     ]
    }
   ],
   "source": [
    "even_numbers=[num for num in range(10) if num%2==0] #list comprehension with condition\n",
    "print(even_numbers)"
   ]
  },
  {
   "cell_type": "code",
   "execution_count": 61,
   "id": "d0313c14",
   "metadata": {},
   "outputs": [
    {
     "name": "stdout",
     "output_type": "stream",
     "text": [
      "[[1, 'a'], [1, 'b'], [1, 'c'], [1, 'd'], [2, 'a'], [2, 'b'], [2, 'c'], [2, 'd'], [3, 'a'], [3, 'b'], [3, 'c'], [3, 'd']]\n"
     ]
    }
   ],
   "source": [
    "##Nested list comprehension\n",
    "lst1=[1,2,3]\n",
    "lst2=['a','b','c','d']\n",
    "\n",
    "pair =[[i,j] for i in lst1 for j in lst2]\n",
    "print(pair)"
   ]
  },
  {
   "cell_type": "code",
   "execution_count": 63,
   "id": "8f364ecf",
   "metadata": {},
   "outputs": [
    {
     "name": "stdout",
     "output_type": "stream",
     "text": [
      "[5, 5, 6, 4, 13]\n"
     ]
    }
   ],
   "source": [
    "#function call\n",
    "words=[\"hello\",\"world\",\"python\",\"list\",\"comprehension\"]\n",
    "lengths=[len(word) for word in words]\n",
    "print(lengths)"
   ]
  },
  {
   "cell_type": "code",
   "execution_count": null,
   "id": "4970d85d",
   "metadata": {},
   "outputs": [],
   "source": []
  }
 ],
 "metadata": {
  "kernelspec": {
   "display_name": "Python 3",
   "language": "python",
   "name": "python3"
  },
  "language_info": {
   "codemirror_mode": {
    "name": "ipython",
    "version": 3
   },
   "file_extension": ".py",
   "mimetype": "text/x-python",
   "name": "python",
   "nbconvert_exporter": "python",
   "pygments_lexer": "ipython3",
   "version": "3.11.2"
  }
 },
 "nbformat": 4,
 "nbformat_minor": 5
}
