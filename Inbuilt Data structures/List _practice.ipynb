{
 "cells": [
  {
   "cell_type": "code",
   "execution_count": 2,
   "id": "8e46151f",
   "metadata": {},
   "outputs": [],
   "source": [
    "##Real-World Examples of List"
   ]
  },
  {
   "cell_type": "code",
   "execution_count": 9,
   "id": "af53826a",
   "metadata": {},
   "outputs": [
    {
     "name": "stdout",
     "output_type": "stream",
     "text": [
      "##dont forget to pay bills\n",
      "to do list remaining\n",
      "-buy Groceries\n",
      "-pay bills\n",
      "-Schedule meeting\n",
      "-Go for a run\n"
     ]
    }
   ],
   "source": [
    "to_do_list=[\"buy Groceries\",\"Clean the house\",\"pay bills\"]\n",
    "\n",
    "## Adding to task\n",
    "to_do_list.append(\"Schedule meeting\")\n",
    "to_do_list.append(\"Go for a run\")\n",
    "\n",
    "##Removing a completed task\n",
    "to_do_list.remove(\"Clean the house\")\n",
    "\n",
    "##checking if a house is in the list\n",
    "if \"pay bills\" in to_do_list:\n",
    "    print(\"##dont forget to pay bills\")\n",
    "\n",
    "print(\"to do list remaining\")\n",
    "for task in to_do_list:\n",
    "    print(f\"-{task}\") ############"
   ]
  },
  {
   "cell_type": "code",
   "execution_count": null,
   "id": "605f9e0e",
   "metadata": {},
   "outputs": [
    {
     "name": "stdout",
     "output_type": "stream",
     "text": [
      "Average Grade: 59.57142857142857\n",
      "Higest Grade: 95\n",
      "Highest Grade =  95\n",
      "Lowest grade: 25\n"
     ]
    }
   ],
   "source": [
    "## Organizing student Grades\n",
    "\n",
    "#Create a list to store and calculate average grades for students\n",
    "\n",
    "grades = [30,25,45,50,80,92]\n",
    "\n",
    "#adding a new grade\n",
    "grades.append(95)\n",
    "\n",
    "##calculating average\n",
    "average_grade= sum(grades)/len(grades)\n",
    "print(f\"Average Grade: {average_grade}\")\n",
    "\n",
    "##finding the highest and lowest grades\n",
    "highest_grades= max(grades)\n",
    "lowest_grades=min(grades)\n",
    "print(f\"Higest Grade: {highest_grades}\")\n",
    "print(f\"Lowest grade: {lowest_grades}\")"
   ]
  },
  {
   "cell_type": "code",
   "execution_count": 20,
   "id": "608de868",
   "metadata": {},
   "outputs": [
    {
     "name": "stdout",
     "output_type": "stream",
     "text": [
      "items in the stock are -['apples', 'oranges', 'grapes', 'strawberries']\n",
      "oranges are in stock\n",
      "Inventory List - \n",
      ".apples\n",
      ".oranges\n",
      ".grapes\n",
      ".strawberries\n"
     ]
    }
   ],
   "source": [
    "##Managing an Inventory\n",
    "\n",
    "inventory = [\"apples\",\"banana\",\"oranges\",\"grapes\"]\n",
    "\n",
    "##adding a new item\n",
    "inventory.append(\"strawberries\")\n",
    "\n",
    "##removing an item\n",
    "inventory.remove(\"banana\")\n",
    "\n",
    "print(f\"items in the stock are -{inventory}\")\n",
    "\n",
    "##checking if an item is in stock\n",
    "item = \"oranges\"\n",
    "if item in inventory:\n",
    "    print(f\"{item} are in stock\")\n",
    "else:\n",
    "    print(f\"{item} are out of stock\")   \n",
    "\n",
    "##Printing the inventory\n",
    "print(\"Inventory List - \")\n",
    "for item in inventory:\n",
    "    print(f\".{item}\")"
   ]
  },
  {
   "cell_type": "code",
   "execution_count": 23,
   "id": "7bce1c58",
   "metadata": {},
   "outputs": [
    {
     "name": "stdout",
     "output_type": "stream",
     "text": [
      "positive feedback:1\n",
      "User Feedback\n",
      " - Great service\n",
      " - very Satisfied\n",
      " - could be better\n",
      " - Excellent experience\n",
      " - Not happy with the service\n"
     ]
    }
   ],
   "source": [
    "##collecting user feedback\n",
    "feedback=[\"Great service\",\"very Satisfied\", \"could be better\", \"Excellent experience\"]\n",
    "\n",
    "##adding new feedback\n",
    "feedback.append(\"Not happy with the service\")\n",
    "\n",
    "#Counting specific feedback\n",
    "positive_feedback_count= sum(1 for comment in feedback if \"Great\" in comment.lower() or \"excellent\" in comment.lower())\n",
    "print(f\"positive feedback:{positive_feedback_count}\")\n",
    "\n",
    "##printing all feedback\n",
    "print(\"User Feedback\")\n",
    "for comment in feedback: \n",
    "    print(f\" - {comment}\")"
   ]
  },
  {
   "cell_type": "code",
   "execution_count": null,
   "id": "de90930d",
   "metadata": {},
   "outputs": [],
   "source": []
  }
 ],
 "metadata": {
  "kernelspec": {
   "display_name": "Python 3",
   "language": "python",
   "name": "python3"
  },
  "language_info": {
   "codemirror_mode": {
    "name": "ipython",
    "version": 3
   },
   "file_extension": ".py",
   "mimetype": "text/x-python",
   "name": "python",
   "nbconvert_exporter": "python",
   "pygments_lexer": "ipython3",
   "version": "3.10.18"
  }
 },
 "nbformat": 4,
 "nbformat_minor": 5
}
