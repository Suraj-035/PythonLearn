{
 "cells": [
  {
   "cell_type": "markdown",
   "id": "47949615",
   "metadata": {},
   "source": [
    "## Inheritance in Python\n",
    "\n",
    "Inheritance is a fundamental concept in OOP tht allows a class to inherit attributes and methods from another class. \n",
    "\n",
    ".Single Inheritance\n",
    "\n",
    ".Multiple inheritance"
   ]
  },
  {
   "cell_type": "code",
   "execution_count": null,
   "id": "a43dc3c0",
   "metadata": {},
   "outputs": [
    {
     "name": "stdout",
     "output_type": "stream",
     "text": [
      "The person will drive the petrol car\n"
     ]
    }
   ],
   "source": [
    "#Inheritance (single)\n",
    "##Parent Class\n",
    "        \n",
    "class Car:\n",
    "    def __init__(self,windows,doors,enginetype):\n",
    "        self.windows=windows  ##self.(windows) can have different name too\n",
    "        self.doors = doors\n",
    "        self.engine = enginetype\n",
    "\n",
    "    def drive(self):\n",
    "        print(f\"The person will drive the {self.engine} car\")\n",
    "\n",
    "car1 = Car(4,5,\"petrol\")\n",
    "car1.drive()"
   ]
  },
  {
   "cell_type": "code",
   "execution_count": null,
   "id": "36177e6d",
   "metadata": {},
   "outputs": [
    {
     "name": "stdout",
     "output_type": "stream",
     "text": [
      "Tesla Supports self driving : True\n",
      "The person will drive the electric car\n"
     ]
    }
   ],
   "source": [
    "class Tesla(Car): ##tesla is inheriting the attributes from Car class\n",
    "    \n",
    "    def __init__(self, windows, doors, enginetype,is_selfdriving):\n",
    "        super().__init__(windows, doors,enginetype) ##this means that we are calling the __init__ method from the car class\n",
    "        self.selfdrive=is_selfdriving\n",
    "    \n",
    "    def selfdriving(self):\n",
    "        print(f\"Tesla Supports self driving : {self.selfdrive}\")\n",
    "\n",
    "tesla1=Tesla(4,5,\"electric\",True)\n",
    "tesla1.selfdriving()\n",
    "tesla1.drive()\n"
   ]
  },
  {
   "cell_type": "code",
   "execution_count": null,
   "id": "9aeae8a1",
   "metadata": {},
   "outputs": [
    {
     "name": "stdout",
     "output_type": "stream",
     "text": [
      "Buddy say Wooof!!\n",
      "Owner :Suraj\n"
     ]
    }
   ],
   "source": [
    "#MUltiple Inheritance\n",
    "##when a class inherits from more than one base class\n",
    "\n",
    "###base class1 \n",
    "class animal:\n",
    "    def __init__(self,name):\n",
    "        self.name=name\n",
    "    def speak(self):\n",
    "        print(\"Subsclass must implement this method\")\n",
    "\n",
    "##base class2\n",
    "class pet:\n",
    "     def __init__(self,owner):\n",
    "         self.owner = owner\n",
    "\n",
    "##Derived Class\n",
    "class Dog(animal, pet):\n",
    "    def __init__(self,name,owner):\n",
    "        animal.__init__(self,name) ##super().__init__ is mostly used for single Inheritance\n",
    "        pet.__init__(self,owner)\n",
    "\n",
    "    def speak(self):\n",
    "        return print(f\"{self.name} say Wooof!!\")\n",
    "\n",
    "##Create an Object\n",
    "dog=Dog(\"Buddy\",\"Suraj\")\n",
    "dog.speak()\n",
    "print(f\"Owner :{dog.owner}\")"
   ]
  },
  {
   "cell_type": "code",
   "execution_count": null,
   "id": "a797ebf7",
   "metadata": {},
   "outputs": [],
   "source": []
  }
 ],
 "metadata": {
  "kernelspec": {
   "display_name": "base",
   "language": "python",
   "name": "python3"
  },
  "language_info": {
   "codemirror_mode": {
    "name": "ipython",
    "version": 3
   },
   "file_extension": ".py",
   "mimetype": "text/x-python",
   "name": "python",
   "nbconvert_exporter": "python",
   "pygments_lexer": "ipython3",
   "version": "3.13.5"
  }
 },
 "nbformat": 4,
 "nbformat_minor": 5
}
