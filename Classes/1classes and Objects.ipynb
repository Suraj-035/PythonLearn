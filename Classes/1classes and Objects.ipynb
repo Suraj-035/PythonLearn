{
 "cells": [
  {
   "cell_type": "markdown",
   "id": "7f5229ee",
   "metadata": {},
   "source": [
    "# Classes and Objects\n",
    "\n",
    "Object Oriented Programming(OOP) is a programmig language that uses \"objects\" to design applications and computer programs.OOP  allows for modelling and real world scenarios using classes and objects."
   ]
  },
  {
   "cell_type": "code",
   "execution_count": 2,
   "id": "f36a6179",
   "metadata": {},
   "outputs": [
    {
     "name": "stdout",
     "output_type": "stream",
     "text": [
      "<class '__main__.Car'>\n",
      "<__main__.Car object at 0x0000025FFC57BB60>\n"
     ]
    }
   ],
   "source": [
    "## a class is a blueprint for creating objects. Attributes, methods\n",
    "\n",
    "class  Car:\n",
    "    pass\n",
    "\n",
    "audi=Car()\n",
    "bmw=Car()\n",
    "\n",
    "print(type(audi))\n",
    "print(audi)\n"
   ]
  },
  {
   "cell_type": "code",
   "execution_count": 4,
   "id": "b51539f0",
   "metadata": {},
   "outputs": [
    {
     "name": "stdout",
     "output_type": "stream",
     "text": [
      "4\n"
     ]
    }
   ],
   "source": [
    "audi.windows=4 ##attributes\n",
    "print(audi.windows)"
   ]
  },
  {
   "cell_type": "code",
   "execution_count": 5,
   "id": "2e74a819",
   "metadata": {},
   "outputs": [
    {
     "data": {
      "text/plain": [
       "['__class__',\n",
       " '__delattr__',\n",
       " '__dict__',\n",
       " '__dir__',\n",
       " '__doc__',\n",
       " '__eq__',\n",
       " '__firstlineno__',\n",
       " '__format__',\n",
       " '__ge__',\n",
       " '__getattribute__',\n",
       " '__getstate__',\n",
       " '__gt__',\n",
       " '__hash__',\n",
       " '__init__',\n",
       " '__init_subclass__',\n",
       " '__le__',\n",
       " '__lt__',\n",
       " '__module__',\n",
       " '__ne__',\n",
       " '__new__',\n",
       " '__reduce__',\n",
       " '__reduce_ex__',\n",
       " '__repr__',\n",
       " '__setattr__',\n",
       " '__sizeof__',\n",
       " '__static_attributes__',\n",
       " '__str__',\n",
       " '__subclasshook__',\n",
       " '__weakref__',\n",
       " 'windows']"
      ]
     },
     "execution_count": 5,
     "metadata": {},
     "output_type": "execute_result"
    }
   ],
   "source": [
    "dir(audi)"
   ]
  },
  {
   "cell_type": "code",
   "execution_count": 12,
   "id": "6fb09090",
   "metadata": {},
   "outputs": [
    {
     "name": "stdout",
     "output_type": "stream",
     "text": [
      "<__main__.Dog object at 0x0000025FFC89CAD0>\n",
      "Buddy\n",
      "3\n"
     ]
    }
   ],
   "source": [
    "##Instance Variable and Methods(barking,moving)\n",
    "\n",
    "class Dog:\n",
    "    ##constructor\n",
    "    def __init__(self,name,age): ##to initialize attributes \n",
    "        self.name=name ##instance variable\n",
    "        self.age=age\n",
    "\n",
    "##create objects\n",
    "dog1=Dog(\"Buddy\",3)\n",
    "print(dog1)\n",
    "print(dog1.name)\n",
    "print(dog1.age)"
   ]
  },
  {
   "cell_type": "code",
   "execution_count": 13,
   "id": "3b0d887d",
   "metadata": {},
   "outputs": [
    {
     "name": "stdout",
     "output_type": "stream",
     "text": [
      "Lucy\n"
     ]
    }
   ],
   "source": [
    "dog2=Dog(\"Lucy\",4)\n",
    "print(dog2.name)"
   ]
  },
  {
   "cell_type": "code",
   "execution_count": 15,
   "id": "7d5bd4d2",
   "metadata": {},
   "outputs": [
    {
     "name": "stdout",
     "output_type": "stream",
     "text": [
      "Buddy says Woof !!\n",
      "Lucy says Woof !!\n"
     ]
    }
   ],
   "source": [
    "##Define a class with instance methods\n",
    "\n",
    "class Dog:\n",
    "    def __init__(self,name,age):\n",
    "        self.name=name\n",
    "        self.age=age\n",
    "    def bark(self): ##instance\n",
    "        print(f\"{self.name} says Woof !!\")\n",
    "\n",
    "dog1=Dog(\"Buddy\",3)\n",
    "dog1.bark()\n",
    "dog2=Dog(\"Lucy\",4)\n",
    "dog2.bark()\n"
   ]
  },
  {
   "cell_type": "code",
   "execution_count": null,
   "id": "d4fc5ebc",
   "metadata": {},
   "outputs": [
    {
     "name": "stdout",
     "output_type": "stream",
     "text": [
      " your current balance is 5000\n"
     ]
    }
   ],
   "source": [
    "##Modelling a bank account\n",
    "\n",
    "##Define a class for bank account\n",
    "\n",
    "class BankAccount:\n",
    "    def __init__(self,owner,balance=0):\n",
    "        self.owner=owner   ##instance variable\n",
    "        self.balance=balance\n",
    "\n",
    "    def deposit(self, amount):  ##instance method\n",
    "        self.balance+=amount\n",
    "        print(f\"{amount} is deposited. New Balance is {self.balance}\")\n",
    "\n",
    "    def withdraw(self,amount):\n",
    "        if amount>self.balance:\n",
    "            print(\"Insufficient funds\")\n",
    "        else:\n",
    "            self.balance-=amount\n",
    "            print(f\"{amount} is withdrawn. New Balance is {self.balance}\")  \n",
    "\n",
    "    def get_balance(self):\n",
    "        return print(f\" your current balance is {self.balance}\")\n",
    "    \n",
    "##create an object\n",
    "account=BankAccount(\"Suraj\",5000)\n",
    "account.get_balance()"
   ]
  },
  {
   "cell_type": "code",
   "execution_count": 29,
   "id": "2af14877",
   "metadata": {},
   "outputs": [
    {
     "name": "stdout",
     "output_type": "stream",
     "text": [
      "100 is deposited. New Balance is 5100\n"
     ]
    }
   ],
   "source": [
    "##call instance methods\n",
    "account.deposit(100)"
   ]
  },
  {
   "cell_type": "code",
   "execution_count": 30,
   "id": "cc40912f",
   "metadata": {},
   "outputs": [
    {
     "name": "stdout",
     "output_type": "stream",
     "text": [
      "500 is withdrawn. New Balance is 4600\n"
     ]
    }
   ],
   "source": [
    "\n",
    "account.withdraw(500)"
   ]
  },
  {
   "cell_type": "code",
   "execution_count": null,
   "id": "7cd12d26",
   "metadata": {},
   "outputs": [],
   "source": [
    "    "
   ]
  },
  {
   "cell_type": "markdown",
   "id": "951488c4",
   "metadata": {},
   "source": [
    "##conclusion\n",
    "OOP allows you to  model real-world scenarios using classes and objects.here we created classes and objects, define instance variables and methods, and use them to perform various operations."
   ]
  },
  {
   "cell_type": "code",
   "execution_count": null,
   "id": "63710a7f",
   "metadata": {},
   "outputs": [],
   "source": []
  }
 ],
 "metadata": {
  "kernelspec": {
   "display_name": "base",
   "language": "python",
   "name": "python3"
  },
  "language_info": {
   "codemirror_mode": {
    "name": "ipython",
    "version": 3
   },
   "file_extension": ".py",
   "mimetype": "text/x-python",
   "name": "python",
   "nbconvert_exporter": "python",
   "pygments_lexer": "ipython3",
   "version": "3.13.5"
  }
 },
 "nbformat": 4,
 "nbformat_minor": 5
}
