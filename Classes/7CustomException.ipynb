{
 "cells": [
  {
   "cell_type": "markdown",
   "id": "fa95a263",
   "metadata": {},
   "source": [
    "### Custom Exception \n",
    "\n",
    "Useful when you want to define your own rules for what’s considered an \"error\".\n",
    "\n",
    "You’re saying: “If age is not valid, don’t just fail silently or generically—make a specific exception!”"
   ]
  },
  {
   "cell_type": "code",
   "execution_count": 1,
   "id": "f4766950",
   "metadata": {},
   "outputs": [],
   "source": [
    "class Error(Exception):\n",
    "    pass\n",
    "class dobException(Error):\n",
    "    pass"
   ]
  },
  {
   "cell_type": "code",
   "execution_count": 3,
   "id": "1e8ec6fd",
   "metadata": {},
   "outputs": [
    {
     "name": "stdout",
     "output_type": "stream",
     "text": [
      "The age is Valid to fill for the exam\n"
     ]
    }
   ],
   "source": [
    "year=int(input(\"Enter the DOB\"))\n",
    "age = 2024-year\n",
    "\n",
    "try:\n",
    "    if age<=30 and age>=20:\n",
    "        print(\"The age is Valid to fill for the exam\")\n",
    "    else:\n",
    "        raise dobException\n",
    "    \n",
    "except dobException:\n",
    "    print(\"Sorry your age should be greater than 20\")"
   ]
  },
  {
   "cell_type": "code",
   "execution_count": null,
   "id": "a7850096",
   "metadata": {},
   "outputs": [],
   "source": []
  }
 ],
 "metadata": {
  "kernelspec": {
   "display_name": "base",
   "language": "python",
   "name": "python3"
  },
  "language_info": {
   "codemirror_mode": {
    "name": "ipython",
    "version": 3
   },
   "file_extension": ".py",
   "mimetype": "text/x-python",
   "name": "python",
   "nbconvert_exporter": "python",
   "pygments_lexer": "ipython3",
   "version": "3.13.5"
  }
 },
 "nbformat": 4,
 "nbformat_minor": 5
}
