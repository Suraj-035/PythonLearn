{
 "cells": [
  {
   "cell_type": "markdown",
   "id": "197f3737",
   "metadata": {},
   "source": [
    "## SQL and SQLite\n",
    "\n",
    "SQL(Structured Query Language) is a standard language for managing and manipulating relational databases. SQLite is a self-contained, severless and zero-configuration database engine that is widely used for embedded database systems."
   ]
  },
  {
   "cell_type": "code",
   "execution_count": 2,
   "id": "7c17f157",
   "metadata": {},
   "outputs": [],
   "source": [
    "import sqlite3"
   ]
  },
  {
   "cell_type": "code",
   "execution_count": 3,
   "id": "e85d9725",
   "metadata": {},
   "outputs": [
    {
     "data": {
      "text/plain": [
       "<sqlite3.Connection at 0x22da8ec5030>"
      ]
     },
     "execution_count": 3,
     "metadata": {},
     "output_type": "execute_result"
    }
   ],
   "source": [
    "##Connect to an SQLite database\n",
    "connection=sqlite3.connect('example.db')\n",
    "connection"
   ]
  },
  {
   "cell_type": "code",
   "execution_count": 4,
   "id": "828dd994",
   "metadata": {},
   "outputs": [],
   "source": [
    "cursor=connection.cursor()"
   ]
  },
  {
   "cell_type": "code",
   "execution_count": 18,
   "id": "dd73c2b1",
   "metadata": {},
   "outputs": [],
   "source": [
    "##Create a table\n",
    "cursor.execute('''\n",
    "    Create Table if not exists Employees(\n",
    "    id Integer Primary Key,\n",
    "    name Text Not null,\n",
    "    age Integer,\n",
    "    department text  )     \n",
    "''')\n",
    "###the triple-quoted SQL string is getting passed into the cursor.execute() function, which means Python evaluates it as a string and sends it to SQLite.\n",
    "##Commit the changes\n",
    "connection.commit()"
   ]
  },
  {
   "cell_type": "code",
   "execution_count": 19,
   "id": "31b74103",
   "metadata": {},
   "outputs": [
    {
     "data": {
      "text/plain": [
       "<sqlite3.Cursor at 0x22da8eaf840>"
      ]
     },
     "execution_count": 19,
     "metadata": {},
     "output_type": "execute_result"
    }
   ],
   "source": [
    "cursor.execute('''\n",
    "   Select * from employees  \n",
    "''')"
   ]
  },
  {
   "cell_type": "code",
   "execution_count": 20,
   "id": "7743aa6b",
   "metadata": {},
   "outputs": [],
   "source": [
    "##insert the data in sqlite table\n",
    "\n",
    "cursor.execute('''\n",
    "  Insert Into employees(name, age,department)\n",
    "               values('Suraj',22, 'Data Science')\n",
    "               ''')\n",
    "cursor.execute('''\n",
    "  Insert Into employees(name, age,department)\n",
    "               values('Bob',26, 'Data Science')\n",
    "               ''')\n",
    "cursor.execute('''\n",
    "  Insert Into employees(name, age,department)\n",
    "               values('Charlie',25, 'Data Science')\n",
    "               ''')\n",
    "\n",
    "##commit the changes\n",
    "connection.commit()\n"
   ]
  },
  {
   "cell_type": "code",
   "execution_count": 22,
   "id": "cc50ebcc",
   "metadata": {},
   "outputs": [
    {
     "name": "stdout",
     "output_type": "stream",
     "text": [
      "(1, 'Suraj', 22, 'Data Science')\n",
      "(2, 'Suraj', 22, 'Data Science')\n",
      "(3, 'Bob', 26, 'Data Science')\n",
      "(4, 'Charlie', 25, 'Data Science')\n",
      "(5, 'Suraj', 22, 'Data Science')\n",
      "(6, 'Bob', 26, 'Data Science')\n",
      "(7, 'Charlie', 25, 'Data Science')\n",
      "(8, 'Suraj', 22, 'Data Science')\n",
      "(9, 'Bob', 26, 'Data Science')\n",
      "(10, 'Charlie', 25, 'Data Science')\n",
      "(11, 'Suraj', 22, 'Data Science')\n",
      "(12, 'Bob', 26, 'Data Science')\n",
      "(13, 'Charlie', 25, 'Data Science')\n"
     ]
    }
   ],
   "source": [
    "##Query the data from table\n",
    "cursor.execute(\"Select * from employees\")\n",
    "rows=cursor.fetchall()\n",
    "\n",
    "##print the queried data\n",
    "\n",
    "for row in rows:\n",
    "    print(row)"
   ]
  },
  {
   "cell_type": "code",
   "execution_count": null,
   "id": "4e65ab96",
   "metadata": {},
   "outputs": [],
   "source": [
    "##Update the data in tge table\n",
    "\n",
    "cursor.execute('''\n",
    "UPDATE employees SET age =34 where name = \"Bob\"\n",
    "''')\n",
    "connection.commit()\n"
   ]
  },
  {
   "cell_type": "code",
   "execution_count": 24,
   "id": "409f7eb5",
   "metadata": {},
   "outputs": [
    {
     "name": "stdout",
     "output_type": "stream",
     "text": [
      "(1, 'Suraj', 22, 'Data Science')\n",
      "(2, 'Suraj', 22, 'Data Science')\n",
      "(3, 'Bob', 34, 'Data Science')\n",
      "(4, 'Charlie', 25, 'Data Science')\n",
      "(5, 'Suraj', 22, 'Data Science')\n",
      "(6, 'Bob', 34, 'Data Science')\n",
      "(7, 'Charlie', 25, 'Data Science')\n",
      "(8, 'Suraj', 22, 'Data Science')\n",
      "(9, 'Bob', 34, 'Data Science')\n",
      "(10, 'Charlie', 25, 'Data Science')\n",
      "(11, 'Suraj', 22, 'Data Science')\n",
      "(12, 'Bob', 34, 'Data Science')\n",
      "(13, 'Charlie', 25, 'Data Science')\n"
     ]
    }
   ],
   "source": [
    "cursor.execute(\"Select * from employees\")\n",
    "rows=cursor.fetchall()\n",
    "\n",
    "##print the queried data\n",
    "\n",
    "for row in rows:\n",
    "    print(row)"
   ]
  },
  {
   "cell_type": "code",
   "execution_count": 31,
   "id": "36ec73ce",
   "metadata": {},
   "outputs": [
    {
     "data": {
      "text/plain": [
       "<sqlite3.Cursor at 0x22da8eaf840>"
      ]
     },
     "execution_count": 31,
     "metadata": {},
     "output_type": "execute_result"
    }
   ],
   "source": [
    "##Delete the data from the table\n",
    "cursor.execute('''\n",
    "Delete from employees where name = 'Bob'               \n",
    "''')"
   ]
  },
  {
   "cell_type": "code",
   "execution_count": 32,
   "id": "4e30636b",
   "metadata": {},
   "outputs": [
    {
     "name": "stdout",
     "output_type": "stream",
     "text": [
      "(1, 'Suraj', 22, 'Data Science')\n",
      "(2, 'Suraj', 22, 'Data Science')\n",
      "(4, 'Charlie', 25, 'Data Science')\n",
      "(5, 'Suraj', 22, 'Data Science')\n",
      "(7, 'Charlie', 25, 'Data Science')\n",
      "(8, 'Suraj', 22, 'Data Science')\n",
      "(10, 'Charlie', 25, 'Data Science')\n",
      "(11, 'Suraj', 22, 'Data Science')\n",
      "(13, 'Charlie', 25, 'Data Science')\n"
     ]
    }
   ],
   "source": [
    "cursor.execute(\"Select * from employees\")\n",
    "rows=cursor.fetchall()\n",
    "\n",
    "##print the queried data\n",
    "\n",
    "for row in rows:\n",
    "    print(row)"
   ]
  },
  {
   "cell_type": "code",
   "execution_count": null,
   "id": "f46cbc16",
   "metadata": {},
   "outputs": [],
   "source": [
    "##Working with sales data\n",
    "#connect to an sqlite database\n",
    "connection= sqlite3.connect('sales_data.db')\n",
    "cursor=connection.cursor()\n",
    "\n",
    "#create a table for sales data\n",
    "cursor.execute('''\n",
    "Create Table if not exists sales(\n",
    "    id Integer Primary Key,\n",
    "    date Text Not null,\n",
    "    product Text Not null,\n",
    "    sales Integer,\n",
    "    region text  )         \n",
    "''')\n",
    "\n",
    "##Insert data into the sales table\n",
    "sales_data=[\n",
    "    ('2023-01-01','Product1',100,'North'),\n",
    "    ('2023-01-02','Product2',150,'North'),\n",
    "    ('2023-01-03','Product3',200,'East'),\n",
    "    ('2023-01-04','Product4',500,'South'),\n",
    "    ('2023-01-05','Product5',400,'West'),\n",
    "    ('2023-01-06','Product6',300,'West'),\n",
    "    \n",
    "]\n",
    "cursor.executemany('''   \n",
    "Insert into sales(date,product,sales,region)\n",
    "                   values(?,?,?,?)\n",
    "                   ''',sales_data)\n",
    "##instead of executemany i could use insertmany too\n",
    "\n",
    "connection.commit()"
   ]
  },
  {
   "cell_type": "code",
   "execution_count": 5,
   "id": "d89c39c9",
   "metadata": {},
   "outputs": [
    {
     "name": "stdout",
     "output_type": "stream",
     "text": [
      "(1, '2023-01-01', 'Product1', 100, 'North')\n",
      "(2, '2023-01-02', 'Product2', 150, 'North')\n",
      "(3, '2023-01-03', 'Product3', 200, 'East')\n",
      "(4, '2023-01-04', 'Product4', 500, 'South')\n",
      "(5, '2023-01-05', 'Product5', 400, 'West')\n",
      "(6, '2023-01-06', 'Product6', 300, 'West')\n"
     ]
    }
   ],
   "source": [
    "cursor.execute(\"Select * from sales\")\n",
    "rows=cursor.fetchall()\n",
    "\n",
    "##print the queried data\n",
    "\n",
    "for row in rows:\n",
    "    print(row)"
   ]
  },
  {
   "cell_type": "code",
   "execution_count": 6,
   "id": "fde54326",
   "metadata": {},
   "outputs": [],
   "source": [
    "##close the connection \n",
    "connection.close()"
   ]
  },
  {
   "cell_type": "code",
   "execution_count": null,
   "id": "8d6aa15a",
   "metadata": {},
   "outputs": [],
   "source": []
  }
 ],
 "metadata": {
  "kernelspec": {
   "display_name": "base",
   "language": "python",
   "name": "python3"
  },
  "language_info": {
   "codemirror_mode": {
    "name": "ipython",
    "version": 3
   },
   "file_extension": ".py",
   "mimetype": "text/x-python",
   "name": "python",
   "nbconvert_exporter": "python",
   "pygments_lexer": "ipython3",
   "version": "3.13.5"
  }
 },
 "nbformat": 4,
 "nbformat_minor": 5
}
