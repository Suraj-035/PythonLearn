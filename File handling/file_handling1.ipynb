{
 "cells": [
  {
   "cell_type": "markdown",
   "id": "e3335e29",
   "metadata": {},
   "source": [
    "File Operation -Read and Write Files"
   ]
  },
  {
   "cell_type": "code",
   "execution_count": 2,
   "id": "cddf47ed",
   "metadata": {},
   "outputs": [
    {
     "name": "stdout",
     "output_type": "stream",
     "text": [
      "Hello world!!\n",
      "my name is Suraj\n",
      "Iam good\n"
     ]
    }
   ],
   "source": [
    "##read a whole file\n",
    "\n",
    "with open('simple txt.txt','r') as file:\n",
    "    content=file.read()\n",
    "    print(content)"
   ]
  },
  {
   "cell_type": "code",
   "execution_count": null,
   "id": "9bb21d80",
   "metadata": {},
   "outputs": [
    {
     "name": "stdout",
     "output_type": "stream",
     "text": [
      "Hello world!!\n",
      "my name is Suraj\n",
      "Iam good\n"
     ]
    }
   ],
   "source": [
    "##Read a file line by line\n",
    "\n",
    "with open('simple txt.txt','r') as file:\n",
    "    for line in file:\n",
    "        print(line.strip())  ##.strip() removes the newline character otherwise there would be \"gaps\""
   ]
  },
  {
   "cell_type": "code",
   "execution_count": null,
   "id": "90d03612",
   "metadata": {},
   "outputs": [],
   "source": [
    "##Write a file(overwriting)\n",
    "\n",
    "with open('simple txt.txt','w') as file:\n",
    "    file.write(\"hello world \\n\")\n",
    "    file.write(\"this is Suraj here\")"
   ]
  },
  {
   "cell_type": "code",
   "execution_count": null,
   "id": "3bfbf807",
   "metadata": {},
   "outputs": [],
   "source": [
    "##write a file without overwriting\n",
    "\n",
    "with open('simple txt.txt','a') as file: ##'a' -> append \n",
    "    file.write(\"\\n Append operation taking place!\")"
   ]
  },
  {
   "cell_type": "code",
   "execution_count": 14,
   "id": "a9a02d4a",
   "metadata": {},
   "outputs": [],
   "source": [
    "##writing list of lines to a file\n",
    "\n",
    "lines=['\\nfirst line \\n','second line \\n','third line \\n']\n",
    "with open('simple txt.txt','a') as file:\n",
    "    file.writelines(lines)"
   ]
  },
  {
   "cell_type": "code",
   "execution_count": null,
   "id": "5872a08c",
   "metadata": {},
   "outputs": [],
   "source": [
    "##binary file\n",
    "#writing to a binary file\n",
    "data=b'\\x00\\x01\\x02\\x03\\x04'\n",
    "with open('example.bin','wb') as file: ##wb - write byte mode\n",
    "    file.write(data)\n",
    "\n"
   ]
  },
  {
   "cell_type": "code",
   "execution_count": 3,
   "id": "799e84f2",
   "metadata": {},
   "outputs": [
    {
     "name": "stdout",
     "output_type": "stream",
     "text": [
      "b'\\x00\\x01\\x02\\x03\\x04'\n"
     ]
    }
   ],
   "source": [
    "##reading a binary file\n",
    "data=b'\\x00\\x01\\x02\\x03\\x04'\n",
    "with open('example.bin','rb') as file: ##rb - read byte mode\n",
    "    content=file.read()\n",
    "    print(content)\n"
   ]
  },
  {
   "cell_type": "code",
   "execution_count": 5,
   "id": "15c439ab",
   "metadata": {},
   "outputs": [],
   "source": [
    "##read the content from a source txt file and write to a destination txt file\n",
    "#copying a text file\n",
    "with open('simple txt.txt','r') as source_file:\n",
    "     content = source_file.read()\n",
    "\n",
    "with open('destination.txt','w') as destination_file:\n",
    "     destination_file.write(content)     \n"
   ]
  },
  {
   "cell_type": "code",
   "execution_count": null,
   "id": "cf9eed8c",
   "metadata": {},
   "outputs": [
    {
     "name": "stdout",
     "output_type": "stream",
     "text": [
      "Lines: 14,\n",
      "Words:39,\n",
      "Characters :270\n"
     ]
    }
   ],
   "source": [
    "##read a text file and count the number of lines, words and characters.\n",
    "\n",
    "def count_text_file(file_path):\n",
    "    with open(file_path,'r') as file:\n",
    "        lines=file.readlines()  ##read all lines into a list \n",
    "        lines_count=len(lines)  ##count how many lines\n",
    "        word_count=sum(len(line.split()) for line in lines) #count words in each lines, add them up\n",
    "        char_count=sum(len(line) for line in lines) ##count characters in each line , add them up\n",
    "    return lines_count, word_count, char_count\n",
    "file_path='simple txt.txt'\n",
    "lines, words, characters=count_text_file(file_path)\n",
    "print(f'Lines: {lines},\\nWords:{words},\\nCharacters :{characters}' )"
   ]
  },
  {
   "cell_type": "markdown",
   "id": "8caae4ec",
   "metadata": {},
   "source": [
    "The w+ mode in Python is used to open a file or both reading and writing. If the file doesnt exist, it will be created. if the file exists, its content is truncated(i.e Overwritten)"
   ]
  },
  {
   "cell_type": "code",
   "execution_count": null,
   "id": "22dde555",
   "metadata": {},
   "outputs": [
    {
     "name": "stdout",
     "output_type": "stream",
     "text": [
      "\n"
     ]
    }
   ],
   "source": [
    "##Writing than reading a file\n",
    "\n",
    "with open('simple text.txt','w+') as file:\n",
    "    file.write(\"Hey hello world \\n\")\n",
    "    file.write(\"Trying this new feature \\n\")\n",
    "\n",
    "    ##move the file cursor to the beginning\n",
    "    file.seek(0) ##after we write something the cursor is at the end, so we need to move the cursor to the beginning to read\n",
    "\n",
    "    ##Read the content of the file\n",
    "    content=file.read()\n",
    "    print(content)"
   ]
  },
  {
   "cell_type": "code",
   "execution_count": null,
   "id": "9b157b1a",
   "metadata": {},
   "outputs": [],
   "source": []
  }
 ],
 "metadata": {
  "kernelspec": {
   "display_name": "base",
   "language": "python",
   "name": "python3"
  },
  "language_info": {
   "codemirror_mode": {
    "name": "ipython",
    "version": 3
   },
   "file_extension": ".py",
   "mimetype": "text/x-python",
   "name": "python",
   "nbconvert_exporter": "python",
   "pygments_lexer": "ipython3",
   "version": "3.13.5"
  }
 },
 "nbformat": 4,
 "nbformat_minor": 5
}
