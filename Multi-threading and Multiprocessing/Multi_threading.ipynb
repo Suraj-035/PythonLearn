{
 "cells": [
  {
   "cell_type": "markdown",
   "id": "69e6ef79",
   "metadata": {},
   "source": [
    "#### Multithreading\n",
    " #### When use Multi threading:\n",
    "  - I/O bound tasks: tasks that spend more time waiting for I/O operations(eg.:file operations, network request)\n",
    "  -  Concurrent Execution : When u want to imporve the throughput of ur application by performing multiple processed concurently\n"
   ]
  },
  {
   "cell_type": "code",
   "execution_count": 6,
   "id": "1ce6fcc3",
   "metadata": {},
   "outputs": [
    {
     "name": "stdout",
     "output_type": "stream",
     "text": [
      "Numbers:  0\n",
      "Numbers:  1\n",
      "Numbers:  2\n",
      "Numbers:  3\n",
      "Numbers:  4\n",
      "Letter :a\n",
      "Letter :b\n",
      "Letter :c\n",
      "Letter :d\n",
      "Total time taken : 18.00580906867981\n"
     ]
    }
   ],
   "source": [
    "import threading\n",
    "import time \n",
    "def print_number():\n",
    "    for i in range(5):\n",
    "        time.sleep(2)\n",
    "        print(f\"Numbers:  {i}\")\n",
    "\n",
    "def print_letter():\n",
    "    for letter in \"abcd\":\n",
    "        time.sleep(2)\n",
    "        print(f\"Letter :{letter}\")\n",
    "\n",
    "t=time.time()\n",
    "print_number()\n",
    "print_letter()\n",
    "finished_time=time.time()-t\n",
    "print(f\"Total time taken : {finished_time}\")"
   ]
  },
  {
   "cell_type": "code",
   "execution_count": 5,
   "id": "576fa8f4",
   "metadata": {},
   "outputs": [
    {
     "name": "stdout",
     "output_type": "stream",
     "text": [
      "Numbers:  0Letter :a\n",
      "\n",
      "Letter :bNumbers:  1\n",
      "\n",
      "Letter :cNumbers:  2\n",
      "\n",
      "Letter :dNumbers:  3\n",
      "\n",
      "Numbers:  4\n",
      "10.010369062423706\n"
     ]
    }
   ],
   "source": [
    "##creating two threads\n",
    "\n",
    "import threading\n",
    "import time \n",
    "def print_number():\n",
    "    for i in range(5):\n",
    "        time.sleep(2)\n",
    "        print(f\"Numbers:  {i}\")\n",
    "\n",
    "def print_letter():\n",
    "    for letter in \"abcd\":\n",
    "        time.sleep(2)\n",
    "        print(f\"Letter :{letter}\")\n",
    "\n",
    "t1=threading.Thread(target=print_number) #target= tells the thread which function to run.\n",
    "t2=threading.Thread(target=print_letter)\n",
    "\n",
    "t=time.time()\n",
    "t1.start() ##This starts both threads simultaneously (well, almost — within milliseconds); Both functions now run in parallel!\n",
    "t2.start()\n",
    "\n",
    "##wait for the threads to complete\n",
    "t1.join()\n",
    "t2.join()\n",
    "\n",
    "finished_time=time.time()-t\n",
    "print(finished_time)"
   ]
  },
  {
   "cell_type": "code",
   "execution_count": null,
   "id": "5cd6dea7",
   "metadata": {},
   "outputs": [],
   "source": []
  }
 ],
 "metadata": {
  "kernelspec": {
   "display_name": "base",
   "language": "python",
   "name": "python3"
  },
  "language_info": {
   "codemirror_mode": {
    "name": "ipython",
    "version": 3
   },
   "file_extension": ".py",
   "mimetype": "text/x-python",
   "name": "python",
   "nbconvert_exporter": "python",
   "pygments_lexer": "ipython3",
   "version": "3.13.5"
  }
 },
 "nbformat": 4,
 "nbformat_minor": 5
}
