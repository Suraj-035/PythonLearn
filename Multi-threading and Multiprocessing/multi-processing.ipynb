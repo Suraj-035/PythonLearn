{
 "cells": [
  {
   "cell_type": "markdown",
   "id": "c6099c4d",
   "metadata": {},
   "source": [
    "## Multiprocessing\n",
    " processes that are running in parallel\n",
    "  - Cpu bound tasks(that are heavy on CPU; eg- mathematical computations, data processing)\n",
    "  - parallel exceution -  multiple cores of the cpu"
   ]
  },
  {
   "cell_type": "code",
   "execution_count": 1,
   "id": "775e7756",
   "metadata": {},
   "outputs": [
    {
     "name": "stdout",
     "output_type": "stream",
     "text": [
      "0.21876120567321777\n"
     ]
    }
   ],
   "source": [
    "import multiprocessing\n",
    "import time\n",
    "\n",
    "def square_numbers():\n",
    "    for i in range(5):\n",
    "        time.sleep(1)\n",
    "        print(f\"Square : {i*i}\")\n",
    "\n",
    "def cube_numbers():\n",
    "    for i in range(5):\n",
    "        time.sleep(1)\n",
    "        print(f\"Cube : {i*i*i}\")\n",
    "\n",
    "if __name__==\"__main__\":\n",
    "     ##Create two processes\n",
    "    p1=multiprocessing.Process(target=square_numbers) \n",
    "    p2=multiprocessing.Process(target=cube_numbers)\n",
    "    t=time.time()\n",
    "    ##start the process\n",
    "    p1.start()\n",
    "    p2.start()\n",
    "\n",
    "    ##wait for the process to complete\n",
    "    p1.join()\n",
    "    p2.join()\n",
    "    finished_time=time.time()-t\n",
    "    print(finished_time)"
   ]
  },
  {
   "cell_type": "code",
   "execution_count": null,
   "id": "1f2be173",
   "metadata": {},
   "outputs": [],
   "source": []
  }
 ],
 "metadata": {
  "kernelspec": {
   "display_name": "base",
   "language": "python",
   "name": "python3"
  },
  "language_info": {
   "codemirror_mode": {
    "name": "ipython",
    "version": 3
   },
   "file_extension": ".py",
   "mimetype": "text/x-python",
   "name": "python",
   "nbconvert_exporter": "python",
   "pygments_lexer": "ipython3",
   "version": "3.13.5"
  }
 },
 "nbformat": 4,
 "nbformat_minor": 5
}
