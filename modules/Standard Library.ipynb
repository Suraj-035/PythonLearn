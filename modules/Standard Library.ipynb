{
 "cells": [
  {
   "cell_type": "code",
   "execution_count": 5,
   "id": "25cd3005",
   "metadata": {},
   "outputs": [
    {
     "name": "stdout",
     "output_type": "stream",
     "text": [
      "array('i', [1, 2, 3, 4])\n"
     ]
    }
   ],
   "source": [
    "import array\n",
    "arr = array.array('i',[1,2,3,4])\n",
    "print(arr)"
   ]
  },
  {
   "cell_type": "code",
   "execution_count": 6,
   "id": "d51b075b",
   "metadata": {},
   "outputs": [
    {
     "name": "stdout",
     "output_type": "stream",
     "text": [
      "4.0\n",
      "3.141592653589793\n"
     ]
    }
   ],
   "source": [
    "import math \n",
    "print(math.sqrt(16))\n",
    "print(math.pi)"
   ]
  },
  {
   "cell_type": "code",
   "execution_count": 10,
   "id": "6db4ad23",
   "metadata": {},
   "outputs": [
    {
     "name": "stdout",
     "output_type": "stream",
     "text": [
      "6\n",
      "banana\n"
     ]
    }
   ],
   "source": [
    "##random\n",
    "import random\n",
    "print(random.randint(1,10))\n",
    "print(random.choice(['apple','banana','cherry']))"
   ]
  },
  {
   "cell_type": "code",
   "execution_count": 11,
   "id": "fee85506",
   "metadata": {},
   "outputs": [
    {
     "name": "stdout",
     "output_type": "stream",
     "text": [
      "c:\\Users\\suraj\\Documents\\Python_Learn\n"
     ]
    }
   ],
   "source": [
    "## file and directory access\n",
    "\n",
    "import os\n",
    "print(os.getcwd()) ##get current working directory"
   ]
  },
  {
   "cell_type": "code",
   "execution_count": 2,
   "id": "0237b7f6",
   "metadata": {},
   "outputs": [],
   "source": [
    "import os\n",
    "os.mkdir('test_dir') ##make directory"
   ]
  },
  {
   "cell_type": "code",
   "execution_count": null,
   "id": "b50c6a43",
   "metadata": {},
   "outputs": [
    {
     "data": {
      "text/plain": [
       "'destination.txt'"
      ]
     },
     "execution_count": 2,
     "metadata": {},
     "output_type": "execute_result"
    }
   ],
   "source": [
    "## high level operations on files and collection on files\n",
    "\n",
    "import shutil\n",
    "shutil.copyfile('source.txt','destination.txt') ##basically copying the text from source -> destination"
   ]
  },
  {
   "cell_type": "code",
   "execution_count": null,
   "id": "1ed5fe78",
   "metadata": {},
   "outputs": [
    {
     "name": "stdout",
     "output_type": "stream",
     "text": [
      "{\"name\": \"suraj\", \"age\": 22}\n",
      "<class 'str'>\n",
      "{'name': 'suraj', 'age': 22}\n",
      "<class 'dict'>\n"
     ]
    }
   ],
   "source": [
    "##Data Serialization\n",
    "import json\n",
    "data={'name':'suraj','age':22}\n",
    "2\n",
    "json_str=json.dumps(data) ##dumps() convert the object into string\n",
    "print(json_str) ##just a string now not a dictionary\n",
    "print(type(json_str))\n",
    "\n",
    "parsed_data=json.loads(json_str) ##loads() convert the str to dictionary\n",
    "print(parsed_data)\n",
    "print(type(parsed_data))"
   ]
  },
  {
   "cell_type": "code",
   "execution_count": null,
   "id": "534b8147",
   "metadata": {},
   "outputs": [
    {
     "name": "stdout",
     "output_type": "stream",
     "text": [
      "['name', 'age']\n",
      "['Suraj', '22']\n"
     ]
    }
   ],
   "source": [
    "## csv\n",
    "\n",
    "import csv\n",
    "with open('example.csv',mode='w',newline='')as file:           ##opens the file in write mode. IF it doesnt exist, it creates it\n",
    "    writer= csv.writer(file)                                   ##writes row in csv file\n",
    "    writer.writerow(['name','age'])\n",
    "    writer.writerow(['Suraj',22])\n",
    "\n",
    "with open('example.csv',mode='r') as file:\n",
    "    reader=csv.reader(file)                                     ##read rows in csv file\n",
    "    for row in reader:\n",
    "        print(row)\n"
   ]
  },
  {
   "cell_type": "code",
   "execution_count": null,
   "id": "088e0f0d",
   "metadata": {},
   "outputs": [
    {
     "name": "stdout",
     "output_type": "stream",
     "text": [
      "2025-07-14 10:13:42.306394\n",
      "2025-07-12 10:13:42.306394\n"
     ]
    }
   ],
   "source": [
    "##date ttime\n",
    "\n",
    "from datetime import datetime,timedelta\n",
    "\n",
    "now=datetime.now()\n",
    "print(now)\n",
    "yesterday=now-timedelta(days=2) ##Creates a time difference of 2 days\n",
    "print(yesterday)"
   ]
  },
  {
   "cell_type": "code",
   "execution_count": null,
   "id": "0769864a",
   "metadata": {},
   "outputs": [
    {
     "name": "stdout",
     "output_type": "stream",
     "text": [
      "1752468286.1281743\n",
      "1752468288.1289818\n"
     ]
    }
   ],
   "source": [
    "##time\n",
    "\n",
    "import time\n",
    "print(time.time())\n",
    "time.sleep(2) ##will sleep for 2 secs\n",
    "print(time.time())"
   ]
  },
  {
   "cell_type": "code",
   "execution_count": null,
   "id": "09a25305",
   "metadata": {},
   "outputs": [
    {
     "name": "stdout",
     "output_type": "stream",
     "text": [
      "<re.Match object; span=(10, 13), match='123'>\n",
      "123\n"
     ]
    }
   ],
   "source": [
    "##regular expression\n",
    "import re\n",
    "pattern = '\\d+' ## \\d matches any digit from 0-9 and + means one more token\n",
    "text=\"there are 123 apples\"\n",
    "match=re.search(pattern,text)  ##re.search() scans the entire string, looking for the first match of the pattern.\n",
    "print(match)\n",
    "print(match.group()) ##.group() gives you the actual matched value"
   ]
  },
  {
   "cell_type": "code",
   "execution_count": null,
   "id": "3c6651df",
   "metadata": {},
   "outputs": [],
   "source": []
  }
 ],
 "metadata": {
  "kernelspec": {
   "display_name": "base",
   "language": "python",
   "name": "python3"
  },
  "language_info": {
   "codemirror_mode": {
    "name": "ipython",
    "version": 3
   },
   "file_extension": ".py",
   "mimetype": "text/x-python",
   "name": "python",
   "nbconvert_exporter": "python",
   "pygments_lexer": "ipython3",
   "version": "3.13.5"
  }
 },
 "nbformat": 4,
 "nbformat_minor": 5
}
